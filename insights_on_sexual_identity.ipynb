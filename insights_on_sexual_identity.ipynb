{
  "nbformat": 4,
  "nbformat_minor": 0,
  "metadata": {
    "kernelspec": {
      "display_name": "Python 3",
      "language": "python",
      "name": "python3"
    },
    "colab": {
      "name": "insights_on_sexual_identity.ipynb",
      "provenance": [],
      "collapsed_sections": [
        "eaNHEhG1BGEy"
      ],
      "toc_visible": true
    }
  },
  "cells": [
    {
      "cell_type": "markdown",
      "metadata": {
        "id": "a28OBdXi3oV9",
        "colab_type": "text"
      },
      "source": [
        "\n",
        "This is an interactive version of the Multidimensional Sexual Self-Concept Questionnaire.\n",
        "\n",
        "Introduction\n",
        "Sexual self-concept is a persons own view of their sexual behaviours and actions.\n",
        "\n",
        "The MSSCQ was created by Dr. William E. Snell, Jr. in 1995 for the general study of sexuality. It measures along twenty separate scales.\n",
        "\n",
        "Procedure\n",
        "The inventory consists of one hundred statements that must be rated on how characteristic they are of the subject. The test should not take most people more than eight minutes.\n",
        "\n",
        "---\n",
        "\n",
        "\n",
        "\n",
        "---\n",
        "\n",
        "\n"
      ]
    },
    {
      "cell_type": "markdown",
      "metadata": {
        "id": "Yf-3J27_KvQX",
        "colab_type": "text"
      },
      "source": [
        "#Import"
      ]
    },
    {
      "cell_type": "code",
      "metadata": {
        "id": "ZH7WIamm3oWn",
        "colab_type": "code",
        "colab": {}
      },
      "source": [
        "import matplotlib.pyplot as plt\n",
        "import numpy as np\n",
        "import pandas as pd\n",
        "import seaborn as sns\n",
        "\n",
        "import scipy\n",
        "from scipy.spatial.distance import pdist, squareform\n",
        "from sklearn.cluster import KMeans\n",
        "from sklearn import metrics\n",
        "from sklearn.preprocessing import StandardScaler\n",
        "\n",
        "from sklearn.model_selection import train_test_split\n",
        "from sklearn.decomposition import PCA\n",
        "\n",
        "from sklearn.metrics import accuracy_score\n",
        "\n",
        "from sklearn.cluster import AgglomerativeClustering\n",
        "from sklearn.metrics import silhouette_score\n",
        "\n",
        "\n",
        "pd.set_option('display.max_colwidth', 100)\n",
        "%matplotlib inline\n",
        "\n",
        "# These are the files that come in the zip file for the Multidimensional Sexual Self-Concept Questionnaire\n",
        "# Related paper: https://www.researchgate.net/publication/297734323_Multidimensional_Sexual_Self-Concept_Questionnaire\n",
        "# The zip was found at: https://openpsychometrics.org/_rawdata/ \n",
        "# The zip can be downloaded at: http://openpsychometrics.org/_rawdata/MSSCQ.zip\n",
        "# The survery can be taken at: https://openpsychometrics.org/tests/MSSCQ.php\n",
        "\n",
        "\n",
        "survey_url = 'https://docs.google.com/spreadsheets/d/1EVsI6xR6q31xh5ByAWcWKa-A20JsSZYu2q98yrQgHc8/export?format=csv'\n",
        "\n",
        "df = pd.read_csv(survey_url)"
      ],
      "execution_count": null,
      "outputs": []
    },
    {
      "cell_type": "markdown",
      "metadata": {
        "id": "t-g7yfGXKxZK",
        "colab_type": "text"
      },
      "source": [
        "## Helpers"
      ]
    },
    {
      "cell_type": "code",
      "metadata": {
        "id": "JNiKldDTWNaG",
        "colab_type": "code",
        "colab": {}
      },
      "source": [
        "def top_corrs(df, column, n=10):\n",
        "    corr_df = df.corr()[[column]]\n",
        "    corr_df.columns = [\"corr\"]\n",
        "    corr_df[\"abs_corr\"] = corr_df.abs()\n",
        "\n",
        "    top_n_num = corr_df.sort_values(\"abs_corr\", ascending=False).head(10)\n",
        "    return top_n_num\n",
        "\n",
        "def rand_index_score(grount_truths, predictions):\n",
        "    tp_plus_fp = scipy.special.comb(np.bincount(grount_truths), 2).sum()\n",
        "    tp_plus_fn = scipy.special.comb(np.bincount(grount_truths), 2).sum()\n",
        "    A = np.c_[(grount_truths, predictions)]\n",
        "    tp = sum(scipy.special.comb(np.bincount(A[A[:, 0] == i, 1]), 2).sum()\n",
        "             for i in set(grount_truths))\n",
        "    fp = tp_plus_fp - tp\n",
        "    fn = tp_plus_fn - tp\n",
        "    tn = scipy.special.comb(len(A), 2) - tp - fp - fn\n",
        "    return (tp + tn) / (tp + fp + fn + tn)\n"
      ],
      "execution_count": null,
      "outputs": []
    },
    {
      "cell_type": "markdown",
      "metadata": {
        "id": "ckZPU-06K3cN",
        "colab_type": "text"
      },
      "source": [
        "#Summary"
      ]
    },
    {
      "cell_type": "code",
      "metadata": {
        "id": "xyE3YMP8cMH0",
        "colab_type": "code",
        "colab": {
          "base_uri": "https://localhost:8080/",
          "height": 405
        },
        "outputId": "ba86d3a9-c32a-4ee4-f254-c3826b8f0055"
      },
      "source": [
        "print(f'The dataframe has {df.shape[0]} rows and {df.shape[::]} columns')\n",
        "\n",
        "print(f'The dataframe has the following subclasses of gender: {df.gender.nunique()}.\\nGenders represented by respondents:{df.gender.unique()}\\n')\n",
        "print(f'gender - Chosen from a drop down:\\n(1=male, 2=female, 3=other, 0=failed to choose)\\n\\nage - entered into a text field (ages < 13 removed)\\n')\n",
        "\n",
        "\n",
        "print(f'The items Q1 through Q100 were rated on a scale where\\n1=Not at all characteristic of me\\n2=Slightly characteristic of me\\n3=Somewhat characteristic of me\\n4=Moderately characteristic of me\\n5=Very characteristic of me\\n')\n",
        "print(f'The following question was asked, \"I responded to the above items based on\":\\n1=A current sexual relationship\\n2=A past sexual relationship\\n3=An imagined sexual relationship\\n')"
      ],
      "execution_count": null,
      "outputs": [
        {
          "output_type": "stream",
          "text": [
            "The dataframe has 17685 rows and (17685, 102) columns\n",
            "The dataframe has the following subclasses of gender: 4.\n",
            "Genders represented by respondents:[1 2 0 3]\n",
            "\n",
            "gender - Chosen from a drop down:\n",
            "(1=male, 2=female, 3=other, 0=failed to choose)\n",
            "\n",
            "age - entered into a text field (ages < 13 removed)\n",
            "\n",
            "The items Q1 through Q100 were rated on a scale where\n",
            "1=Not at all characteristic of me\n",
            "2=Slightly characteristic of me\n",
            "3=Somewhat characteristic of me\n",
            "4=Moderately characteristic of me\n",
            "5=Very characteristic of me\n",
            "\n",
            "The following question was asked, \"I responded to the above items based on\":\n",
            "1=A current sexual relationship\n",
            "2=A past sexual relationship\n",
            "3=An imagined sexual relationship\n",
            "\n"
          ],
          "name": "stdout"
        }
      ]
    },
    {
      "cell_type": "markdown",
      "metadata": {
        "id": "HAi_mVqyLIbK",
        "colab_type": "text"
      },
      "source": [
        "#Peak"
      ]
    },
    {
      "cell_type": "code",
      "metadata": {
        "id": "ywNP6WM2LHog",
        "colab_type": "code",
        "colab": {
          "base_uri": "https://localhost:8080/",
          "height": 256
        },
        "outputId": "5af12bfb-f4c9-48fd-9865-2bec02a00083"
      },
      "source": [
        "df.head(5)"
      ],
      "execution_count": null,
      "outputs": [
        {
          "output_type": "execute_result",
          "data": {
            "text/html": [
              "<div>\n",
              "<style scoped>\n",
              "    .dataframe tbody tr th:only-of-type {\n",
              "        vertical-align: middle;\n",
              "    }\n",
              "\n",
              "    .dataframe tbody tr th {\n",
              "        vertical-align: top;\n",
              "    }\n",
              "\n",
              "    .dataframe thead th {\n",
              "        text-align: right;\n",
              "    }\n",
              "</style>\n",
              "<table border=\"1\" class=\"dataframe\">\n",
              "  <thead>\n",
              "    <tr style=\"text-align: right;\">\n",
              "      <th></th>\n",
              "      <th>Q1</th>\n",
              "      <th>Q2</th>\n",
              "      <th>Q3</th>\n",
              "      <th>Q4</th>\n",
              "      <th>Q5</th>\n",
              "      <th>Q6</th>\n",
              "      <th>Q7</th>\n",
              "      <th>Q8</th>\n",
              "      <th>Q9</th>\n",
              "      <th>Q10</th>\n",
              "      <th>Q11</th>\n",
              "      <th>Q12</th>\n",
              "      <th>Q13</th>\n",
              "      <th>Q14</th>\n",
              "      <th>Q15</th>\n",
              "      <th>Q16</th>\n",
              "      <th>Q17</th>\n",
              "      <th>Q18</th>\n",
              "      <th>Q19</th>\n",
              "      <th>Q20</th>\n",
              "      <th>Q21</th>\n",
              "      <th>Q22</th>\n",
              "      <th>Q23</th>\n",
              "      <th>Q24</th>\n",
              "      <th>Q25</th>\n",
              "      <th>Q26</th>\n",
              "      <th>Q27</th>\n",
              "      <th>Q28</th>\n",
              "      <th>Q29</th>\n",
              "      <th>Q30</th>\n",
              "      <th>Q31</th>\n",
              "      <th>Q32</th>\n",
              "      <th>Q33</th>\n",
              "      <th>Q34</th>\n",
              "      <th>Q35</th>\n",
              "      <th>Q36</th>\n",
              "      <th>Q37</th>\n",
              "      <th>Q38</th>\n",
              "      <th>Q39</th>\n",
              "      <th>Q40</th>\n",
              "      <th>...</th>\n",
              "      <th>Q63</th>\n",
              "      <th>Q64</th>\n",
              "      <th>Q65</th>\n",
              "      <th>Q66</th>\n",
              "      <th>Q67</th>\n",
              "      <th>Q68</th>\n",
              "      <th>Q69</th>\n",
              "      <th>Q70</th>\n",
              "      <th>Q71</th>\n",
              "      <th>Q72</th>\n",
              "      <th>Q73</th>\n",
              "      <th>Q74</th>\n",
              "      <th>Q75</th>\n",
              "      <th>Q76</th>\n",
              "      <th>Q77</th>\n",
              "      <th>Q78</th>\n",
              "      <th>Q79</th>\n",
              "      <th>Q80</th>\n",
              "      <th>Q81</th>\n",
              "      <th>Q82</th>\n",
              "      <th>Q83</th>\n",
              "      <th>Q84</th>\n",
              "      <th>Q85</th>\n",
              "      <th>Q86</th>\n",
              "      <th>Q87</th>\n",
              "      <th>Q88</th>\n",
              "      <th>Q89</th>\n",
              "      <th>Q90</th>\n",
              "      <th>Q91</th>\n",
              "      <th>Q92</th>\n",
              "      <th>Q93</th>\n",
              "      <th>Q94</th>\n",
              "      <th>Q95</th>\n",
              "      <th>Q96</th>\n",
              "      <th>Q97</th>\n",
              "      <th>Q98</th>\n",
              "      <th>Q99</th>\n",
              "      <th>Q100</th>\n",
              "      <th>age</th>\n",
              "      <th>gender</th>\n",
              "    </tr>\n",
              "  </thead>\n",
              "  <tbody>\n",
              "    <tr>\n",
              "      <th>0</th>\n",
              "      <td>3</td>\n",
              "      <td>2</td>\n",
              "      <td>5</td>\n",
              "      <td>5</td>\n",
              "      <td>1</td>\n",
              "      <td>2</td>\n",
              "      <td>2</td>\n",
              "      <td>1</td>\n",
              "      <td>1</td>\n",
              "      <td>2</td>\n",
              "      <td>2</td>\n",
              "      <td>3</td>\n",
              "      <td>3</td>\n",
              "      <td>1</td>\n",
              "      <td>1</td>\n",
              "      <td>5</td>\n",
              "      <td>1</td>\n",
              "      <td>2</td>\n",
              "      <td>4</td>\n",
              "      <td>3</td>\n",
              "      <td>3</td>\n",
              "      <td>2</td>\n",
              "      <td>4</td>\n",
              "      <td>5</td>\n",
              "      <td>1</td>\n",
              "      <td>1</td>\n",
              "      <td>2</td>\n",
              "      <td>1</td>\n",
              "      <td>1</td>\n",
              "      <td>1</td>\n",
              "      <td>3</td>\n",
              "      <td>3</td>\n",
              "      <td>3</td>\n",
              "      <td>1</td>\n",
              "      <td>1</td>\n",
              "      <td>5</td>\n",
              "      <td>1</td>\n",
              "      <td>3</td>\n",
              "      <td>5</td>\n",
              "      <td>4</td>\n",
              "      <td>...</td>\n",
              "      <td>4</td>\n",
              "      <td>5</td>\n",
              "      <td>2</td>\n",
              "      <td>1</td>\n",
              "      <td>5</td>\n",
              "      <td>3</td>\n",
              "      <td>2</td>\n",
              "      <td>2</td>\n",
              "      <td>4</td>\n",
              "      <td>3</td>\n",
              "      <td>2</td>\n",
              "      <td>1</td>\n",
              "      <td>1</td>\n",
              "      <td>5</td>\n",
              "      <td>5</td>\n",
              "      <td>3</td>\n",
              "      <td>5</td>\n",
              "      <td>3</td>\n",
              "      <td>4</td>\n",
              "      <td>4</td>\n",
              "      <td>4</td>\n",
              "      <td>5</td>\n",
              "      <td>1</td>\n",
              "      <td>1</td>\n",
              "      <td>4</td>\n",
              "      <td>4</td>\n",
              "      <td>1</td>\n",
              "      <td>3</td>\n",
              "      <td>4</td>\n",
              "      <td>2</td>\n",
              "      <td>4</td>\n",
              "      <td>1</td>\n",
              "      <td>1</td>\n",
              "      <td>5</td>\n",
              "      <td>5</td>\n",
              "      <td>3</td>\n",
              "      <td>5</td>\n",
              "      <td>4</td>\n",
              "      <td>23</td>\n",
              "      <td>1</td>\n",
              "    </tr>\n",
              "    <tr>\n",
              "      <th>1</th>\n",
              "      <td>5</td>\n",
              "      <td>1</td>\n",
              "      <td>5</td>\n",
              "      <td>1</td>\n",
              "      <td>1</td>\n",
              "      <td>2</td>\n",
              "      <td>1</td>\n",
              "      <td>3</td>\n",
              "      <td>1</td>\n",
              "      <td>1</td>\n",
              "      <td>1</td>\n",
              "      <td>4</td>\n",
              "      <td>1</td>\n",
              "      <td>2</td>\n",
              "      <td>1</td>\n",
              "      <td>1</td>\n",
              "      <td>5</td>\n",
              "      <td>1</td>\n",
              "      <td>5</td>\n",
              "      <td>2</td>\n",
              "      <td>0</td>\n",
              "      <td>1</td>\n",
              "      <td>4</td>\n",
              "      <td>2</td>\n",
              "      <td>1</td>\n",
              "      <td>1</td>\n",
              "      <td>1</td>\n",
              "      <td>2</td>\n",
              "      <td>2</td>\n",
              "      <td>4</td>\n",
              "      <td>1</td>\n",
              "      <td>2</td>\n",
              "      <td>1</td>\n",
              "      <td>1</td>\n",
              "      <td>1</td>\n",
              "      <td>1</td>\n",
              "      <td>5</td>\n",
              "      <td>1</td>\n",
              "      <td>4</td>\n",
              "      <td>4</td>\n",
              "      <td>...</td>\n",
              "      <td>3</td>\n",
              "      <td>3</td>\n",
              "      <td>1</td>\n",
              "      <td>1</td>\n",
              "      <td>1</td>\n",
              "      <td>3</td>\n",
              "      <td>1</td>\n",
              "      <td>5</td>\n",
              "      <td>1</td>\n",
              "      <td>2</td>\n",
              "      <td>1</td>\n",
              "      <td>1</td>\n",
              "      <td>1</td>\n",
              "      <td>1</td>\n",
              "      <td>1</td>\n",
              "      <td>1</td>\n",
              "      <td>5</td>\n",
              "      <td>2</td>\n",
              "      <td>5</td>\n",
              "      <td>2</td>\n",
              "      <td>4</td>\n",
              "      <td>2</td>\n",
              "      <td>1</td>\n",
              "      <td>1</td>\n",
              "      <td>1</td>\n",
              "      <td>2</td>\n",
              "      <td>1</td>\n",
              "      <td>2</td>\n",
              "      <td>1</td>\n",
              "      <td>1</td>\n",
              "      <td>1</td>\n",
              "      <td>1</td>\n",
              "      <td>1</td>\n",
              "      <td>2</td>\n",
              "      <td>1</td>\n",
              "      <td>1</td>\n",
              "      <td>5</td>\n",
              "      <td>3</td>\n",
              "      <td>25</td>\n",
              "      <td>2</td>\n",
              "    </tr>\n",
              "    <tr>\n",
              "      <th>2</th>\n",
              "      <td>1</td>\n",
              "      <td>4</td>\n",
              "      <td>5</td>\n",
              "      <td>5</td>\n",
              "      <td>1</td>\n",
              "      <td>4</td>\n",
              "      <td>5</td>\n",
              "      <td>5</td>\n",
              "      <td>5</td>\n",
              "      <td>4</td>\n",
              "      <td>5</td>\n",
              "      <td>5</td>\n",
              "      <td>5</td>\n",
              "      <td>4</td>\n",
              "      <td>2</td>\n",
              "      <td>5</td>\n",
              "      <td>1</td>\n",
              "      <td>4</td>\n",
              "      <td>1</td>\n",
              "      <td>5</td>\n",
              "      <td>1</td>\n",
              "      <td>5</td>\n",
              "      <td>5</td>\n",
              "      <td>5</td>\n",
              "      <td>2</td>\n",
              "      <td>1</td>\n",
              "      <td>2</td>\n",
              "      <td>5</td>\n",
              "      <td>4</td>\n",
              "      <td>4</td>\n",
              "      <td>4</td>\n",
              "      <td>4</td>\n",
              "      <td>5</td>\n",
              "      <td>4</td>\n",
              "      <td>2</td>\n",
              "      <td>5</td>\n",
              "      <td>2</td>\n",
              "      <td>4</td>\n",
              "      <td>2</td>\n",
              "      <td>4</td>\n",
              "      <td>...</td>\n",
              "      <td>5</td>\n",
              "      <td>5</td>\n",
              "      <td>2</td>\n",
              "      <td>2</td>\n",
              "      <td>4</td>\n",
              "      <td>2</td>\n",
              "      <td>4</td>\n",
              "      <td>2</td>\n",
              "      <td>5</td>\n",
              "      <td>5</td>\n",
              "      <td>5</td>\n",
              "      <td>5</td>\n",
              "      <td>1</td>\n",
              "      <td>5</td>\n",
              "      <td>4</td>\n",
              "      <td>4</td>\n",
              "      <td>1</td>\n",
              "      <td>5</td>\n",
              "      <td>1</td>\n",
              "      <td>4</td>\n",
              "      <td>5</td>\n",
              "      <td>5</td>\n",
              "      <td>1</td>\n",
              "      <td>2</td>\n",
              "      <td>4</td>\n",
              "      <td>1</td>\n",
              "      <td>1</td>\n",
              "      <td>4</td>\n",
              "      <td>5</td>\n",
              "      <td>5</td>\n",
              "      <td>5</td>\n",
              "      <td>5</td>\n",
              "      <td>1</td>\n",
              "      <td>5</td>\n",
              "      <td>4</td>\n",
              "      <td>4</td>\n",
              "      <td>1</td>\n",
              "      <td>4</td>\n",
              "      <td>20</td>\n",
              "      <td>1</td>\n",
              "    </tr>\n",
              "    <tr>\n",
              "      <th>3</th>\n",
              "      <td>5</td>\n",
              "      <td>4</td>\n",
              "      <td>5</td>\n",
              "      <td>5</td>\n",
              "      <td>5</td>\n",
              "      <td>5</td>\n",
              "      <td>2</td>\n",
              "      <td>4</td>\n",
              "      <td>5</td>\n",
              "      <td>5</td>\n",
              "      <td>5</td>\n",
              "      <td>2</td>\n",
              "      <td>5</td>\n",
              "      <td>1</td>\n",
              "      <td>1</td>\n",
              "      <td>5</td>\n",
              "      <td>1</td>\n",
              "      <td>4</td>\n",
              "      <td>5</td>\n",
              "      <td>1</td>\n",
              "      <td>5</td>\n",
              "      <td>3</td>\n",
              "      <td>5</td>\n",
              "      <td>4</td>\n",
              "      <td>5</td>\n",
              "      <td>0</td>\n",
              "      <td>1</td>\n",
              "      <td>5</td>\n",
              "      <td>1</td>\n",
              "      <td>1</td>\n",
              "      <td>5</td>\n",
              "      <td>2</td>\n",
              "      <td>3</td>\n",
              "      <td>1</td>\n",
              "      <td>1</td>\n",
              "      <td>5</td>\n",
              "      <td>1</td>\n",
              "      <td>4</td>\n",
              "      <td>5</td>\n",
              "      <td>4</td>\n",
              "      <td>...</td>\n",
              "      <td>5</td>\n",
              "      <td>5</td>\n",
              "      <td>5</td>\n",
              "      <td>5</td>\n",
              "      <td>5</td>\n",
              "      <td>3</td>\n",
              "      <td>2</td>\n",
              "      <td>1</td>\n",
              "      <td>4</td>\n",
              "      <td>5</td>\n",
              "      <td>5</td>\n",
              "      <td>1</td>\n",
              "      <td>3</td>\n",
              "      <td>5</td>\n",
              "      <td>5</td>\n",
              "      <td>5</td>\n",
              "      <td>2</td>\n",
              "      <td>4</td>\n",
              "      <td>2</td>\n",
              "      <td>4</td>\n",
              "      <td>5</td>\n",
              "      <td>5</td>\n",
              "      <td>5</td>\n",
              "      <td>5</td>\n",
              "      <td>4</td>\n",
              "      <td>4</td>\n",
              "      <td>2</td>\n",
              "      <td>5</td>\n",
              "      <td>4</td>\n",
              "      <td>4</td>\n",
              "      <td>4</td>\n",
              "      <td>1</td>\n",
              "      <td>2</td>\n",
              "      <td>5</td>\n",
              "      <td>0</td>\n",
              "      <td>4</td>\n",
              "      <td>5</td>\n",
              "      <td>5</td>\n",
              "      <td>23</td>\n",
              "      <td>2</td>\n",
              "    </tr>\n",
              "    <tr>\n",
              "      <th>4</th>\n",
              "      <td>4</td>\n",
              "      <td>5</td>\n",
              "      <td>4</td>\n",
              "      <td>5</td>\n",
              "      <td>4</td>\n",
              "      <td>2</td>\n",
              "      <td>3</td>\n",
              "      <td>2</td>\n",
              "      <td>4</td>\n",
              "      <td>5</td>\n",
              "      <td>1</td>\n",
              "      <td>3</td>\n",
              "      <td>4</td>\n",
              "      <td>3</td>\n",
              "      <td>3</td>\n",
              "      <td>1</td>\n",
              "      <td>5</td>\n",
              "      <td>2</td>\n",
              "      <td>5</td>\n",
              "      <td>3</td>\n",
              "      <td>5</td>\n",
              "      <td>3</td>\n",
              "      <td>3</td>\n",
              "      <td>5</td>\n",
              "      <td>3</td>\n",
              "      <td>1</td>\n",
              "      <td>2</td>\n",
              "      <td>2</td>\n",
              "      <td>4</td>\n",
              "      <td>4</td>\n",
              "      <td>1</td>\n",
              "      <td>1</td>\n",
              "      <td>1</td>\n",
              "      <td>1</td>\n",
              "      <td>4</td>\n",
              "      <td>1</td>\n",
              "      <td>4</td>\n",
              "      <td>1</td>\n",
              "      <td>4</td>\n",
              "      <td>4</td>\n",
              "      <td>...</td>\n",
              "      <td>3</td>\n",
              "      <td>5</td>\n",
              "      <td>2</td>\n",
              "      <td>0</td>\n",
              "      <td>3</td>\n",
              "      <td>3</td>\n",
              "      <td>2</td>\n",
              "      <td>4</td>\n",
              "      <td>2</td>\n",
              "      <td>4</td>\n",
              "      <td>2</td>\n",
              "      <td>2</td>\n",
              "      <td>4</td>\n",
              "      <td>1</td>\n",
              "      <td>1</td>\n",
              "      <td>1</td>\n",
              "      <td>1</td>\n",
              "      <td>3</td>\n",
              "      <td>4</td>\n",
              "      <td>3</td>\n",
              "      <td>3</td>\n",
              "      <td>4</td>\n",
              "      <td>1</td>\n",
              "      <td>2</td>\n",
              "      <td>2</td>\n",
              "      <td>3</td>\n",
              "      <td>3</td>\n",
              "      <td>4</td>\n",
              "      <td>1</td>\n",
              "      <td>3</td>\n",
              "      <td>1</td>\n",
              "      <td>1</td>\n",
              "      <td>3</td>\n",
              "      <td>1</td>\n",
              "      <td>1</td>\n",
              "      <td>1</td>\n",
              "      <td>4</td>\n",
              "      <td>3</td>\n",
              "      <td>50</td>\n",
              "      <td>2</td>\n",
              "    </tr>\n",
              "  </tbody>\n",
              "</table>\n",
              "<p>5 rows × 102 columns</p>\n",
              "</div>"
            ],
            "text/plain": [
              "   Q1  Q2  Q3  Q4  Q5  Q6  Q7  Q8  ...  Q95  Q96  Q97  Q98  Q99  Q100  age  gender\n",
              "0   3   2   5   5   1   2   2   1  ...    1    5    5    3    5     4   23       1\n",
              "1   5   1   5   1   1   2   1   3  ...    1    2    1    1    5     3   25       2\n",
              "2   1   4   5   5   1   4   5   5  ...    1    5    4    4    1     4   20       1\n",
              "3   5   4   5   5   5   5   2   4  ...    2    5    0    4    5     5   23       2\n",
              "4   4   5   4   5   4   2   3   2  ...    3    1    1    1    4     3   50       2\n",
              "\n",
              "[5 rows x 102 columns]"
            ]
          },
          "metadata": {
            "tags": []
          },
          "execution_count": 100
        }
      ]
    },
    {
      "cell_type": "markdown",
      "metadata": {
        "id": "r2xAzvOCaIfM",
        "colab_type": "text"
      },
      "source": [
        "## Data munging"
      ]
    },
    {
      "cell_type": "code",
      "metadata": {
        "id": "NEHzDC8a3oXy",
        "colab_type": "code",
        "colab": {
          "base_uri": "https://localhost:8080/",
          "height": 109
        },
        "outputId": "75d72102-8382-491a-d567-b4f6f9c0c6b9"
      },
      "source": [
        "# Create mapper to make gender column readable\n",
        "gender_map = {1: 'male', \n",
        "              2: 'female', \n",
        "              3: 'other', \n",
        "              0: 'failed to choose'}\n",
        "\n",
        "#replace gender values from original df\n",
        "df['gender'] = df['gender'].replace(gender_map)\n",
        "\n",
        "#dtypes\n",
        "df.info()\n",
        "\n",
        "#convert gender col to str\n",
        "df['gender'] = df.gender.astype('string')"
      ],
      "execution_count": null,
      "outputs": [
        {
          "output_type": "stream",
          "text": [
            "<class 'pandas.core.frame.DataFrame'>\n",
            "RangeIndex: 17685 entries, 0 to 17684\n",
            "Columns: 102 entries, Q1 to gender\n",
            "dtypes: int64(101), object(1)\n",
            "memory usage: 13.8+ MB\n"
          ],
          "name": "stdout"
        }
      ]
    },
    {
      "cell_type": "markdown",
      "metadata": {
        "id": "MH0d60hkZDk2",
        "colab_type": "text"
      },
      "source": [
        "## Missing Values"
      ]
    },
    {
      "cell_type": "code",
      "metadata": {
        "id": "wyTbLmFJ3oZh",
        "colab_type": "code",
        "colab": {
          "base_uri": "https://localhost:8080/",
          "height": 128
        },
        "outputId": "9183c917-e033-4ee0-99bb-f3606b25d59e"
      },
      "source": [
        "#check for missing vals\n",
        "df.isna().mean().sort_values(ascending=False).head()"
      ],
      "execution_count": null,
      "outputs": [
        {
          "output_type": "execute_result",
          "data": {
            "text/plain": [
              "gender    0.0\n",
              "Q38       0.0\n",
              "Q28       0.0\n",
              "Q29       0.0\n",
              "Q30       0.0\n",
              "dtype: float64"
            ]
          },
          "metadata": {
            "tags": []
          },
          "execution_count": 102
        }
      ]
    },
    {
      "cell_type": "markdown",
      "metadata": {
        "id": "ltIiH208ZIkV",
        "colab_type": "text"
      },
      "source": [
        "### Outliers - Z Scores"
      ]
    },
    {
      "cell_type": "code",
      "metadata": {
        "id": "Ed_QnB6hJc_B",
        "colab_type": "code",
        "colab": {
          "base_uri": "https://localhost:8080/",
          "height": 923
        },
        "outputId": "e7d0c67e-796c-469d-b2fc-18baa8231e2d"
      },
      "source": [
        "from scipy.stats import zscore\n",
        "z_scores = zscore(df_copy.age)\n",
        "for threshold in range(1,5):\n",
        "    print(\"The score threshold is: {}\".format(threshold))\n",
        "    print(\"The indices of the outliers:\")\n",
        "    print(np.where(z_scores > threshold))\n",
        "    print(\"Number of outliers is: {}\".format(len((np.where(z_scores > threshold)[0]))))"
      ],
      "execution_count": null,
      "outputs": [
        {
          "output_type": "stream",
          "text": [
            "The score threshold is: 1\n",
            "The indices of the outliers:\n",
            "(array([    4,     5,     6, ..., 17635, 17640, 17664]),)\n",
            "Number of outliers is: 2779\n",
            "The score threshold is: 2\n",
            "The indices of the outliers:\n",
            "(array([    4,     5,     6, ..., 17595, 17628, 17634]),)\n",
            "Number of outliers is: 1114\n",
            "The score threshold is: 3\n",
            "The indices of the outliers:\n",
            "(array([   44,   157,   327,   337,   350,   378,   402,   406,  1475,\n",
            "        1494,  1524,  1760,  1858,  1904,  1960,  1975,  2060,  2082,\n",
            "        2085,  2319,  2408,  2423,  2640,  2670,  2750,  2828,  2871,\n",
            "        2953,  2954,  3071,  3087,  3219,  3244,  3318,  3415,  3569,\n",
            "        3576,  3628,  3635,  3638,  3646,  3823,  3855,  3867,  3900,\n",
            "        3916,  3976,  4099,  4199,  4239,  4386,  4456,  4688,  4763,\n",
            "        4767,  4869,  5034,  5254,  5270,  5271,  5310,  5457,  5600,\n",
            "        5784,  5794,  6104,  6114,  6121,  6151,  6228,  6270,  6284,\n",
            "        6389,  6395,  6399,  6419,  6469,  6578,  6747,  6763,  6784,\n",
            "        6848,  6866,  7166,  7215,  7269,  7281,  7288,  7391,  7399,\n",
            "        7408,  7460,  7473,  7549,  7567,  7712,  7874,  7975,  7991,\n",
            "        8017,  8074,  8154,  8166,  8190,  8204,  8240,  8477,  8564,\n",
            "        8574,  8614,  8645,  8758,  8813,  8945,  8964,  9076,  9122,\n",
            "        9134,  9211,  9244,  9252,  9424,  9461,  9561,  9615,  9647,\n",
            "        9747,  9908,  9940,  9971,  9989, 10043, 10098, 10149, 10181,\n",
            "       10242, 10261, 10277, 10321, 10419, 10594, 10639, 10654, 10747,\n",
            "       10797, 10825, 10863, 10954, 11013, 11297, 11311, 11348, 11396,\n",
            "       11458, 11459, 11653, 11759, 11809, 11867, 12001, 12002, 12003,\n",
            "       12013, 12047, 12075, 12157, 12272, 12330, 12451, 12464, 12470,\n",
            "       12484, 12511, 12521, 12530, 12556, 12602, 12652, 12663, 12759,\n",
            "       12768, 13056, 13059, 13129, 13271, 13306, 13319, 13335, 13381,\n",
            "       13391, 13432, 13452, 13476, 13564, 13607, 13631, 13673, 13706,\n",
            "       13707, 13723, 13774, 13780, 13811, 13861, 13886, 13939, 13959,\n",
            "       14087, 14195, 14254, 14272, 14280, 14282, 14309, 14338, 14368,\n",
            "       14485, 14532, 14544, 14558, 14597, 14599, 14744, 14778, 14843,\n",
            "       14845, 15455, 15516, 15541, 15670, 15695, 15713, 15736, 15778,\n",
            "       15783, 15857, 15879, 15941, 16051, 16147, 16230, 16274, 16412,\n",
            "       16422, 16425, 16446, 16654, 16658, 16669, 16681, 16736, 16782,\n",
            "       16819, 16852, 16940, 17010, 17036, 17040, 17076, 17088, 17162,\n",
            "       17170, 17224, 17225, 17286, 17303, 17362, 17391, 17415, 17444,\n",
            "       17463, 17476, 17505, 17550, 17628]),)\n",
            "Number of outliers is: 275\n",
            "The score threshold is: 4\n",
            "The indices of the outliers:\n",
            "(array([ 1524,  2408,  2750,  2954,  3244,  3576,  6284,  6399,  6578,\n",
            "        7391,  7567,  7874,  9424, 10149, 10181, 10261, 10954, 11653,\n",
            "       12001, 12075, 12556, 12768, 13706, 13886, 14597, 14778, 14845,\n",
            "       16782, 17224, 17303, 17444]),)\n",
            "Number of outliers is: 31\n"
          ],
          "name": "stdout"
        }
      ]
    },
    {
      "cell_type": "markdown",
      "metadata": {
        "id": "Pw6ALxfLEOKT",
        "colab_type": "text"
      },
      "source": [
        ""
      ]
    },
    {
      "cell_type": "code",
      "metadata": {
        "id": "2yRsMiL4NhlF",
        "colab_type": "code",
        "colab": {
          "base_uri": "https://localhost:8080/",
          "height": 333
        },
        "outputId": "34397db9-fd9c-4a50-a5f0-a19d561b1765"
      },
      "source": [
        "!pip install sweetviz"
      ],
      "execution_count": null,
      "outputs": [
        {
          "output_type": "stream",
          "text": [
            "Requirement already satisfied: sweetviz in /usr/local/lib/python3.6/dist-packages (1.0a7)\n",
            "Requirement already satisfied: jinja2>=2.11.1 in /usr/local/lib/python3.6/dist-packages (from sweetviz) (2.11.2)\n",
            "Requirement already satisfied: tqdm>=4.43.0 in /usr/local/lib/python3.6/dist-packages (from sweetviz) (4.47.0)\n",
            "Requirement already satisfied: numpy>=1.16.0 in /usr/local/lib/python3.6/dist-packages (from sweetviz) (1.18.5)\n",
            "Requirement already satisfied: pandas!=1.0.0,!=1.0.1,!=1.0.2,>=0.25.3 in /usr/local/lib/python3.6/dist-packages (from sweetviz) (1.0.5)\n",
            "Requirement already satisfied: scipy>=1.3.2 in /usr/local/lib/python3.6/dist-packages (from sweetviz) (1.4.1)\n",
            "Requirement already satisfied: importlib-resources>=1.2.0 in /usr/local/lib/python3.6/dist-packages (from sweetviz) (3.0.0)\n",
            "Requirement already satisfied: matplotlib>=3.1.3 in /usr/local/lib/python3.6/dist-packages (from sweetviz) (3.2.2)\n",
            "Requirement already satisfied: MarkupSafe>=0.23 in /usr/local/lib/python3.6/dist-packages (from jinja2>=2.11.1->sweetviz) (1.1.1)\n",
            "Requirement already satisfied: python-dateutil>=2.6.1 in /usr/local/lib/python3.6/dist-packages (from pandas!=1.0.0,!=1.0.1,!=1.0.2,>=0.25.3->sweetviz) (2.8.1)\n",
            "Requirement already satisfied: pytz>=2017.2 in /usr/local/lib/python3.6/dist-packages (from pandas!=1.0.0,!=1.0.1,!=1.0.2,>=0.25.3->sweetviz) (2018.9)\n",
            "Requirement already satisfied: zipp>=0.4; python_version < \"3.8\" in /usr/local/lib/python3.6/dist-packages (from importlib-resources>=1.2.0->sweetviz) (3.1.0)\n",
            "Requirement already satisfied: cycler>=0.10 in /usr/local/lib/python3.6/dist-packages (from matplotlib>=3.1.3->sweetviz) (0.10.0)\n",
            "Requirement already satisfied: pyparsing!=2.0.4,!=2.1.2,!=2.1.6,>=2.0.1 in /usr/local/lib/python3.6/dist-packages (from matplotlib>=3.1.3->sweetviz) (2.4.7)\n",
            "Requirement already satisfied: kiwisolver>=1.0.1 in /usr/local/lib/python3.6/dist-packages (from matplotlib>=3.1.3->sweetviz) (1.2.0)\n",
            "Requirement already satisfied: six>=1.5 in /usr/local/lib/python3.6/dist-packages (from python-dateutil>=2.6.1->pandas!=1.0.0,!=1.0.1,!=1.0.2,>=0.25.3->sweetviz) (1.12.0)\n"
          ],
          "name": "stdout"
        }
      ]
    },
    {
      "cell_type": "markdown",
      "metadata": {
        "id": "skxcF1HGR90c",
        "colab_type": "text"
      },
      "source": [
        "### Assessing Target Variable - Age & Categorical Variable - Gender"
      ]
    },
    {
      "cell_type": "code",
      "metadata": {
        "id": "XYsTjd9L3od_",
        "colab_type": "code",
        "colab": {
          "base_uri": "https://localhost:8080/",
          "height": 300
        },
        "outputId": "433382a6-186a-4a38-a8a6-5132b2b836db"
      },
      "source": [
        "#found in previous analysis\n",
        "bad_ages = [125, 150, 200, 222, 236, 265, 378, 400, 1995, 9599, 9877, 8346346]\n",
        "df = df[~df['age'].isin(bad_ages)]\n",
        "\n",
        "# make copy of df\n",
        "df_copy = df.copy()\n",
        "# make new df with gender and age columns\n",
        "gender_age = df_copy[['age', 'gender']]\n",
        "# make new df with question columns\n",
        "questions = df_copy.drop(['age', 'gender'], axis=1)\n",
        "\n",
        "# check age for weird values\n",
        "gender_age.describe()"
      ],
      "execution_count": null,
      "outputs": [
        {
          "output_type": "execute_result",
          "data": {
            "text/html": [
              "<div>\n",
              "<style scoped>\n",
              "    .dataframe tbody tr th:only-of-type {\n",
              "        vertical-align: middle;\n",
              "    }\n",
              "\n",
              "    .dataframe tbody tr th {\n",
              "        vertical-align: top;\n",
              "    }\n",
              "\n",
              "    .dataframe thead th {\n",
              "        text-align: right;\n",
              "    }\n",
              "</style>\n",
              "<table border=\"1\" class=\"dataframe\">\n",
              "  <thead>\n",
              "    <tr style=\"text-align: right;\">\n",
              "      <th></th>\n",
              "      <th>age</th>\n",
              "    </tr>\n",
              "  </thead>\n",
              "  <tbody>\n",
              "    <tr>\n",
              "      <th>count</th>\n",
              "      <td>17673.000000</td>\n",
              "    </tr>\n",
              "    <tr>\n",
              "      <th>mean</th>\n",
              "      <td>26.378826</td>\n",
              "    </tr>\n",
              "    <tr>\n",
              "      <th>std</th>\n",
              "      <td>11.123267</td>\n",
              "    </tr>\n",
              "    <tr>\n",
              "      <th>min</th>\n",
              "      <td>13.000000</td>\n",
              "    </tr>\n",
              "    <tr>\n",
              "      <th>25%</th>\n",
              "      <td>19.000000</td>\n",
              "    </tr>\n",
              "    <tr>\n",
              "      <th>50%</th>\n",
              "      <td>22.000000</td>\n",
              "    </tr>\n",
              "    <tr>\n",
              "      <th>75%</th>\n",
              "      <td>31.000000</td>\n",
              "    </tr>\n",
              "    <tr>\n",
              "      <th>max</th>\n",
              "      <td>100.000000</td>\n",
              "    </tr>\n",
              "  </tbody>\n",
              "</table>\n",
              "</div>"
            ],
            "text/plain": [
              "                age\n",
              "count  17673.000000\n",
              "mean      26.378826\n",
              "std       11.123267\n",
              "min       13.000000\n",
              "25%       19.000000\n",
              "50%       22.000000\n",
              "75%       31.000000\n",
              "max      100.000000"
            ]
          },
          "metadata": {
            "tags": []
          },
          "execution_count": 105
        }
      ]
    },
    {
      "cell_type": "markdown",
      "metadata": {
        "id": "MKPcLeTAT408",
        "colab_type": "text"
      },
      "source": [
        "Target variable statistics:\n",
        "\n",
        "* Avg Age: 26.37\t\n",
        "* Standard Deviation: 11.12\t\n",
        "* Mininum age: 13.0 \t\n",
        "* 25th Percentile: 19.0 \t\n",
        "* 50th Percentile: 22.0 \t\n",
        "* 75th Percentile: 31.0 \t\n",
        "* Maximum Age: 100.0\n",
        "\n"
      ]
    },
    {
      "cell_type": "markdown",
      "metadata": {
        "id": "q2mHz3R_V3H_",
        "colab_type": "text"
      },
      "source": [
        "Distribution of Target Variable"
      ]
    },
    {
      "cell_type": "code",
      "metadata": {
        "id": "Q40L_xrK3oem",
        "colab_type": "code",
        "colab": {}
      },
      "source": [
        "# print(pd.crosstab(gender_age.gender, gender_age.age).max().sort_values(ascending=False))\n",
        "# print(pd.crosstab(gender_age.gender, gender_age.age).max().sort_values(ascending=True))"
      ],
      "execution_count": null,
      "outputs": []
    },
    {
      "cell_type": "markdown",
      "metadata": {
        "id": "zVJmvsZeXf2V",
        "colab_type": "text"
      },
      "source": [
        "Top 5 Sub-classes of respondents - Age:\n",
        "* Age 18 - 1051 respondents\n",
        "* Age 19 - 851 respondents\n",
        "* Age 17 - 738 respondents\n",
        "* Age 20 - 721 respondents\n",
        "* Age 21 - 680 respondents\n",
        "\n",
        "Bottom 5 Sub-classes of respondents - Age:\n",
        "* Age 100 - 1 respondent\n",
        "* Age 73 - 1 respondent\n",
        "* Age 74 - 1 respondent\n",
        "* Age 76 - 1 respondent\n",
        "* Age 77 -  respondent"
      ]
    },
    {
      "cell_type": "code",
      "metadata": {
        "id": "J52ydngDUrxe",
        "colab_type": "code",
        "colab": {
          "base_uri": "https://localhost:8080/",
          "height": 297
        },
        "outputId": "ae029354-54a3-4037-c5e4-0ebd7567248c"
      },
      "source": [
        "sns.distplot(gender_age['age'])\n",
        "plt.tight_layout()\n",
        "plt.show()\n"
      ],
      "execution_count": null,
      "outputs": [
        {
          "output_type": "display_data",
          "data": {
            "image/png": "[encoded data removed]",
            "text/plain": [
              "<Figure size 432x288 with 1 Axes>"
            ]
          },
          "metadata": {
            "tags": [],
            "needs_background": "light"
          }
        }
      ]
    },
    {
      "cell_type": "markdown",
      "metadata": {
        "id": "tjDjeRJZYx1P",
        "colab_type": "text"
      },
      "source": [
        "#EDA"
      ]
    },
    {
      "cell_type": "markdown",
      "metadata": {
        "id": "ADXFGKZbfwMu",
        "colab_type": "text"
      },
      "source": [
        "### Univariate Analysis of Continous Variable - Age"
      ]
    },
    {
      "cell_type": "code",
      "metadata": {
        "id": "bV5NWm0jY4mX",
        "colab_type": "code",
        "colab": {
          "base_uri": "https://localhost:8080/",
          "height": 1000
        },
        "outputId": "51e7a29d-cfb5-4b5d-c708-5389080681da"
      },
      "source": [
        "plt.figure(figsize=(40,50))\n",
        "for index, column in enumerate(df_copy.iloc[:, :-1]):\n",
        "    ax = plt.subplot(11,9,index+1)\n",
        "    plt.bar(df_copy.groupby(column)[\"age\"].mean().index, \n",
        "            df_copy.groupby(column)[\"age\"].mean(),\n",
        "           color=(\"tomato\",\"royalblue\"))\n",
        "    plt.title(\"Average Age wrt. {}\".format(column))\n",
        "    plt.ylabel(\"Average Age\")\n",
        "    plt.xlabel(column)\n",
        "    plt.xticks(rotation='vertical')\n",
        "plt.tight_layout()\n",
        "plt.show()"
      ],
      "execution_count": null,
      "outputs": [
        {
          "output_type": "error",
          "ename": "ValueError",
          "evalue": "ignored",
          "traceback": [
            "\u001b[0;31m---------------------------------------------------------------------------\u001b[0m",
            "\u001b[0;31mValueError\u001b[0m                                Traceback (most recent call last)",
            "\u001b[0;32m<ipython-input-108-67bf199c95ab>\u001b[0m in \u001b[0;36m<module>\u001b[0;34m()\u001b[0m\n\u001b[1;32m      1\u001b[0m \u001b[0mplt\u001b[0m\u001b[0;34m.\u001b[0m\u001b[0mfigure\u001b[0m\u001b[0;34m(\u001b[0m\u001b[0mfigsize\u001b[0m\u001b[0;34m=\u001b[0m\u001b[0;34m(\u001b[0m\u001b[0;36m40\u001b[0m\u001b[0;34m,\u001b[0m\u001b[0;36m50\u001b[0m\u001b[0;34m)\u001b[0m\u001b[0;34m)\u001b[0m\u001b[0;34m\u001b[0m\u001b[0;34m\u001b[0m\u001b[0m\n\u001b[1;32m      2\u001b[0m \u001b[0;32mfor\u001b[0m \u001b[0mindex\u001b[0m\u001b[0;34m,\u001b[0m \u001b[0mcolumn\u001b[0m \u001b[0;32min\u001b[0m \u001b[0menumerate\u001b[0m\u001b[0;34m(\u001b[0m\u001b[0mdf_copy\u001b[0m\u001b[0;34m.\u001b[0m\u001b[0miloc\u001b[0m\u001b[0;34m[\u001b[0m\u001b[0;34m:\u001b[0m\u001b[0;34m,\u001b[0m \u001b[0;34m:\u001b[0m\u001b[0;34m-\u001b[0m\u001b[0;36m1\u001b[0m\u001b[0;34m]\u001b[0m\u001b[0;34m)\u001b[0m\u001b[0;34m:\u001b[0m\u001b[0;34m\u001b[0m\u001b[0;34m\u001b[0m\u001b[0m\n\u001b[0;32m----> 3\u001b[0;31m     \u001b[0max\u001b[0m \u001b[0;34m=\u001b[0m \u001b[0mplt\u001b[0m\u001b[0;34m.\u001b[0m\u001b[0msubplot\u001b[0m\u001b[0;34m(\u001b[0m\u001b[0;36m11\u001b[0m\u001b[0;34m,\u001b[0m\u001b[0;36m9\u001b[0m\u001b[0;34m,\u001b[0m\u001b[0mindex\u001b[0m\u001b[0;34m+\u001b[0m\u001b[0;36m1\u001b[0m\u001b[0;34m)\u001b[0m\u001b[0;34m\u001b[0m\u001b[0;34m\u001b[0m\u001b[0m\n\u001b[0m\u001b[1;32m      4\u001b[0m     plt.bar(df_copy.groupby(column)[\"age\"].mean().index, \n\u001b[1;32m      5\u001b[0m             \u001b[0mdf_copy\u001b[0m\u001b[0;34m.\u001b[0m\u001b[0mgroupby\u001b[0m\u001b[0;34m(\u001b[0m\u001b[0mcolumn\u001b[0m\u001b[0;34m)\u001b[0m\u001b[0;34m[\u001b[0m\u001b[0;34m\"age\"\u001b[0m\u001b[0;34m]\u001b[0m\u001b[0;34m.\u001b[0m\u001b[0mmean\u001b[0m\u001b[0;34m(\u001b[0m\u001b[0;34m)\u001b[0m\u001b[0;34m,\u001b[0m\u001b[0;34m\u001b[0m\u001b[0;34m\u001b[0m\u001b[0m\n",
            "\u001b[0;32m/usr/local/lib/python3.6/dist-packages/matplotlib/pyplot.py\u001b[0m in \u001b[0;36msubplot\u001b[0;34m(*args, **kwargs)\u001b[0m\n\u001b[1;32m   1028\u001b[0m \u001b[0;34m\u001b[0m\u001b[0m\n\u001b[1;32m   1029\u001b[0m     \u001b[0mfig\u001b[0m \u001b[0;34m=\u001b[0m \u001b[0mgcf\u001b[0m\u001b[0;34m(\u001b[0m\u001b[0;34m)\u001b[0m\u001b[0;34m\u001b[0m\u001b[0;34m\u001b[0m\u001b[0m\n\u001b[0;32m-> 1030\u001b[0;31m     \u001b[0ma\u001b[0m \u001b[0;34m=\u001b[0m \u001b[0mfig\u001b[0m\u001b[0;34m.\u001b[0m\u001b[0madd_subplot\u001b[0m\u001b[0;34m(\u001b[0m\u001b[0;34m*\u001b[0m\u001b[0margs\u001b[0m\u001b[0;34m,\u001b[0m \u001b[0;34m**\u001b[0m\u001b[0mkwargs\u001b[0m\u001b[0;34m)\u001b[0m\u001b[0;34m\u001b[0m\u001b[0;34m\u001b[0m\u001b[0m\n\u001b[0m\u001b[1;32m   1031\u001b[0m     \u001b[0mbbox\u001b[0m \u001b[0;34m=\u001b[0m \u001b[0ma\u001b[0m\u001b[0;34m.\u001b[0m\u001b[0mbbox\u001b[0m\u001b[0;34m\u001b[0m\u001b[0;34m\u001b[0m\u001b[0m\n\u001b[1;32m   1032\u001b[0m     \u001b[0mbyebye\u001b[0m \u001b[0;34m=\u001b[0m \u001b[0;34m[\u001b[0m\u001b[0;34m]\u001b[0m\u001b[0;34m\u001b[0m\u001b[0;34m\u001b[0m\u001b[0m\n",
            "\u001b[0;32m/usr/local/lib/python3.6/dist-packages/matplotlib/figure.py\u001b[0m in \u001b[0;36madd_subplot\u001b[0;34m(self, *args, **kwargs)\u001b[0m\n\u001b[1;32m   1417\u001b[0m                     \u001b[0mself\u001b[0m\u001b[0;34m.\u001b[0m\u001b[0m_axstack\u001b[0m\u001b[0;34m.\u001b[0m\u001b[0mremove\u001b[0m\u001b[0;34m(\u001b[0m\u001b[0max\u001b[0m\u001b[0;34m)\u001b[0m\u001b[0;34m\u001b[0m\u001b[0;34m\u001b[0m\u001b[0m\n\u001b[1;32m   1418\u001b[0m \u001b[0;34m\u001b[0m\u001b[0m\n\u001b[0;32m-> 1419\u001b[0;31m             \u001b[0ma\u001b[0m \u001b[0;34m=\u001b[0m \u001b[0msubplot_class_factory\u001b[0m\u001b[0;34m(\u001b[0m\u001b[0mprojection_class\u001b[0m\u001b[0;34m)\u001b[0m\u001b[0;34m(\u001b[0m\u001b[0mself\u001b[0m\u001b[0;34m,\u001b[0m \u001b[0;34m*\u001b[0m\u001b[0margs\u001b[0m\u001b[0;34m,\u001b[0m \u001b[0;34m**\u001b[0m\u001b[0mkwargs\u001b[0m\u001b[0;34m)\u001b[0m\u001b[0;34m\u001b[0m\u001b[0;34m\u001b[0m\u001b[0m\n\u001b[0m\u001b[1;32m   1420\u001b[0m \u001b[0;34m\u001b[0m\u001b[0m\n\u001b[1;32m   1421\u001b[0m         \u001b[0;32mreturn\u001b[0m \u001b[0mself\u001b[0m\u001b[0;34m.\u001b[0m\u001b[0m_add_axes_internal\u001b[0m\u001b[0;34m(\u001b[0m\u001b[0mkey\u001b[0m\u001b[0;34m,\u001b[0m \u001b[0ma\u001b[0m\u001b[0;34m)\u001b[0m\u001b[0;34m\u001b[0m\u001b[0;34m\u001b[0m\u001b[0m\n",
            "\u001b[0;32m/usr/local/lib/python3.6/dist-packages/matplotlib/axes/_subplots.py\u001b[0m in \u001b[0;36m__init__\u001b[0;34m(self, fig, *args, **kwargs)\u001b[0m\n\u001b[1;32m     64\u001b[0m                 \u001b[0;32mif\u001b[0m \u001b[0mnum\u001b[0m \u001b[0;34m<\u001b[0m \u001b[0;36m1\u001b[0m \u001b[0;32mor\u001b[0m \u001b[0mnum\u001b[0m \u001b[0;34m>\u001b[0m \u001b[0mrows\u001b[0m\u001b[0;34m*\u001b[0m\u001b[0mcols\u001b[0m\u001b[0;34m:\u001b[0m\u001b[0;34m\u001b[0m\u001b[0;34m\u001b[0m\u001b[0m\n\u001b[1;32m     65\u001b[0m                     raise ValueError(\n\u001b[0;32m---> 66\u001b[0;31m                         f\"num must be 1 <= num <= {rows*cols}, not {num}\")\n\u001b[0m\u001b[1;32m     67\u001b[0m                 self._subplotspec = GridSpec(\n\u001b[1;32m     68\u001b[0m                         rows, cols, figure=self.figure)[int(num) - 1]\n",
            "\u001b[0;31mValueError\u001b[0m: num must be 1 <= num <= 99, not 100"
          ]
        },
        {
          "output_type": "display_data",
          "data": {
            "image/png": "[encoded data removed]",
            "text/plain": [
              "<Figure size 2880x3600 with 99 Axes>"
            ]
          },
          "metadata": {
            "tags": [],
            "needs_background": "light"
          }
        }
      ]
    },
    {
      "cell_type": "markdown",
      "metadata": {
        "id": "U3UVRIgMeSrC",
        "colab_type": "text"
      },
      "source": [
        "Judging from the distribution of the independent variables, there's a sense of \"dents\" or jaggedness througout.  This lack of continuity could create problems in model accuracy. "
      ]
    },
    {
      "cell_type": "code",
      "metadata": {
        "id": "7uz3FV4zY4ZD",
        "colab_type": "code",
        "colab": {}
      },
      "source": [
        ""
      ],
      "execution_count": null,
      "outputs": []
    },
    {
      "cell_type": "markdown",
      "metadata": {
        "id": "BF7gQp610oGd",
        "colab_type": "text"
      },
      "source": [
        ""
      ]
    },
    {
      "cell_type": "markdown",
      "metadata": {
        "id": "X7K8K476D9ys",
        "colab_type": "text"
      },
      "source": [
        "The bar charts above provide some insight into shape and behavior of the target class. The top 4 most correlated features show moderate to high right skewing."
      ]
    },
    {
      "cell_type": "code",
      "metadata": {
        "id": "wqC_blv6dItZ",
        "colab_type": "code",
        "colab": {}
      },
      "source": [
        "df_copy.groupby('age')['Q58', 'Q57', 'Q91', 'Q97', 'Q51'].mean().plot(kind='bar', figsize=(45,15))\n",
        "plt.tight_layout()\n",
        "plt.title('Bar Graph of Bottom-5 of 10 Most Correlated Questions by Age');"
      ],
      "execution_count": null,
      "outputs": []
    },
    {
      "cell_type": "markdown",
      "metadata": {
        "id": "x2qt28r3a_ll",
        "colab_type": "text"
      },
      "source": [
        "Below are the scatter plots for the highest correlated values.  We note some features with outliers usually near age 90 +/- 10 years of age. \n",
        "\n"
      ]
    },
    {
      "cell_type": "markdown",
      "metadata": {
        "id": "eaNHEhG1BGEy",
        "colab_type": "text"
      },
      "source": [
        "### Gender - Class membership"
      ]
    },
    {
      "cell_type": "code",
      "metadata": {
        "id": "aNY_29KqAwr1",
        "colab_type": "code",
        "colab": {}
      },
      "source": [
        "plt.figure(figsize=(15,5))\n",
        "plt.barh(df_copy.groupby(\"gender\")[\"gender\"].count().index, \n",
        "        df_copy.groupby(\"gender\")[\"gender\"].count(), \n",
        "        color=[\"red\",\"green\",\"blue\",\"grey\",\"pink\"])\n",
        "plt.title(\"Bar Chart of Gender totals per subclass\\n\")\n",
        "\n",
        "plt.show()"
      ],
      "execution_count": null,
      "outputs": []
    },
    {
      "cell_type": "markdown",
      "metadata": {
        "id": "Hn1EI_Hkf-q9",
        "colab_type": "text"
      },
      "source": [
        "# Correlation Matrix - Age versus Correalated Features"
      ]
    },
    {
      "cell_type": "markdown",
      "metadata": {
        "id": "6_8W_d3yYy7A",
        "colab_type": "text"
      },
      "source": [
        "###Correalation - Questions vs. Age"
      ]
    },
    {
      "cell_type": "code",
      "metadata": {
        "id": "ejr7MtTQWGyr",
        "colab_type": "code",
        "colab": {}
      },
      "source": [
        "def plot_top_corrs(df, column, n=10):\n",
        "    top_corrs_df = top_corrs(df, column, n)\n",
        "    top_feats = top_corrs_df.index\n",
        "    top_corr = df[top_feats]\n",
        "    top_corr_tall = pd.melt(top_corr, column)\n",
        "\n",
        "    fg = sns.FacetGrid(top_corr_tall, col=\"variable\", col_wrap=5, sharex=False)\n",
        "    fg.map(sns.scatterplot, \"value\", column)\n",
        "    plt.show()\n",
        "top_n_corrs = top_corrs(df_copy, 'age')\n",
        "# log_top_n_corrs = top_corrs(log_df, \"log_saleprice\")\n",
        "top_n_corrs\n"
      ],
      "execution_count": null,
      "outputs": []
    },
    {
      "cell_type": "code",
      "metadata": {
        "id": "x0pvdQWc3onh",
        "colab_type": "code",
        "colab": {}
      },
      "source": [
        "plot_top_corrs(df_copy, 'age')"
      ],
      "execution_count": null,
      "outputs": []
    },
    {
      "cell_type": "code",
      "metadata": {
        "id": "9hP6b3El3oif",
        "colab_type": "code",
        "colab": {}
      },
      "source": [
        "outliers_ga = gender_age[gender_age['age'] >= 90].sort_values(by='age')\n",
        "outliers_ga.T"
      ],
      "execution_count": null,
      "outputs": []
    },
    {
      "cell_type": "code",
      "metadata": {
        "id": "Z18h1qXVCI06",
        "colab_type": "code",
        "colab": {}
      },
      "source": [
        "df_copy.groupby('age')['Q18', 'Q71', 'Q77', 'Q17'].sum().plot(kind='bar', figsize=(10,15))\n",
        "plt.tight_layout()\n",
        "plt.title('Bar Graph of Top 4 Correlated Questions by Age');"
      ],
      "execution_count": null,
      "outputs": []
    },
    {
      "cell_type": "markdown",
      "metadata": {
        "id": "9twOw7QS0z5V",
        "colab_type": "text"
      },
      "source": [
        "# Modeling"
      ]
    },
    {
      "cell_type": "code",
      "metadata": {
        "id": "six4KnLuY3qn",
        "colab_type": "code",
        "colab": {}
      },
      "source": [
        "X = df_copy.iloc[:, :-2]\n",
        "y = df_copy.age #target\n",
        "\n",
        "# Standardizing the features\n",
        "scaler = StandardScaler()\n",
        "X_std = scaler.fit_transform(X)\n",
        "\n",
        "# n_components = 102\n",
        "pca = PCA()\n",
        "pca.fit(X_std)\n",
        "\n",
        "X_std_pca = pca.transform(X_std)"
      ],
      "execution_count": null,
      "outputs": []
    },
    {
      "cell_type": "code",
      "metadata": {
        "id": "9TTMpnB4tT99",
        "colab_type": "code",
        "colab": {}
      },
      "source": [
        ""
      ],
      "execution_count": null,
      "outputs": []
    },
    {
      "cell_type": "code",
      "metadata": {
        "id": "F4s8elcXtSkw",
        "colab_type": "code",
        "colab": {}
      },
      "source": [
        "# Split the data into four equally-sized samples. First we break it in half:\n",
        "X_half1, X_half2, X_pcahalf1, X_pcahalf2 = train_test_split(\n",
        "    X_std,\n",
        "    X_std_pca,\n",
        "    test_size=0.5,\n",
        "    random_state=13579)"
      ],
      "execution_count": null,
      "outputs": []
    },
    {
      "cell_type": "code",
      "metadata": {
        "id": "G9g3uvex5uJM",
        "colab_type": "code",
        "colab": {
          "base_uri": "https://localhost:8080/",
          "height": 239
        },
        "outputId": "a759500d-e789-4796-f366-e0decda4a45d"
      },
      "source": [
        "X.loc[1]"
      ],
      "execution_count": null,
      "outputs": [
        {
          "output_type": "execute_result",
          "data": {
            "text/plain": [
              "Q1      5\n",
              "Q2      1\n",
              "Q3      5\n",
              "Q4      1\n",
              "Q5      1\n",
              "       ..\n",
              "Q96     2\n",
              "Q97     1\n",
              "Q98     1\n",
              "Q99     5\n",
              "Q100    3\n",
              "Name: 1, Length: 100, dtype: int64"
            ]
          },
          "metadata": {
            "tags": []
          },
          "execution_count": 123
        }
      ]
    },
    {
      "cell_type": "markdown",
      "metadata": {
        "id": "svPlAKYroKbc",
        "colab_type": "text"
      },
      "source": [
        "###$ K = 4"
      ]
    },
    {
      "cell_type": "code",
      "metadata": {
        "id": "UjkjKenBoJsx",
        "colab_type": "code",
        "colab": {
          "base_uri": "https://localhost:8080/",
          "height": 316
        },
        "outputId": "4a49c62b-bfac-452c-b86d-8843f3d997b7"
      },
      "source": [
        "k_means = KMeans(n_clusters=4, random_state=42)\n",
        "%timeit k_means.fit(X_std_pca)\n",
        "y_pred = k_means.predict(X_std_pca)\n",
        "\n",
        "plt.scatter(df_copy.iloc[:,0], df_copy.iloc[:,1], c=y_pred)\n",
        "plt.show()\n",
        "\n",
        "clusters = k_means.fit_predict(X_std_pca)\n",
        "k_means.cluster_centers_.shape\n",
        "\n",
        "\n",
        "labels = k_means.labels_\n",
        "print(metrics.silhouette_score(X_std_pca, labels, metric='euclidean'))"
      ],
      "execution_count": null,
      "outputs": [
        {
          "output_type": "stream",
          "text": [
            "1 loop, best of 3: 2.67 s per loop\n"
          ],
          "name": "stdout"
        },
        {
          "output_type": "display_data",
          "data": {
            "image/png": "[encoded data removed]",
            "text/plain": [
              "<Figure size 432x288 with 1 Axes>"
            ]
          },
          "metadata": {
            "tags": [],
            "needs_background": "light"
          }
        },
        {
          "output_type": "stream",
          "text": [
            "0.12223916688875738\n"
          ],
          "name": "stdout"
        },
        {
          "output_type": "execute_result",
          "data": {
            "text/plain": [
              "(4, 100)"
            ]
          },
          "metadata": {
            "tags": []
          },
          "execution_count": 134
        }
      ]
    },
    {
      "cell_type": "markdown",
      "metadata": {
        "id": "2eFzvulwpw1G",
        "colab_type": "text"
      },
      "source": [
        "##### Predicted Clusters k=4, Rand Index & Adjust Rand Index"
      ]
    },
    {
      "cell_type": "code",
      "metadata": {
        "id": "tzLHyCC7pp9P",
        "colab_type": "code",
        "colab": {
          "base_uri": "https://localhost:8080/",
          "height": 175
        },
        "outputId": "067ede20-79df-413f-f1a2-d131e43cb805"
      },
      "source": [
        "#predicted clusters\n",
        "full_pred_4 = KMeans(n_clusters=4, random_state=42).fit_predict(X_std_pca)\n",
        "pd.crosstab(y, full_pred).head(3)"
      ],
      "execution_count": null,
      "outputs": [
        {
          "output_type": "execute_result",
          "data": {
            "text/html": [
              "<div>\n",
              "<style scoped>\n",
              "    .dataframe tbody tr th:only-of-type {\n",
              "        vertical-align: middle;\n",
              "    }\n",
              "\n",
              "    .dataframe tbody tr th {\n",
              "        vertical-align: top;\n",
              "    }\n",
              "\n",
              "    .dataframe thead th {\n",
              "        text-align: right;\n",
              "    }\n",
              "</style>\n",
              "<table border=\"1\" class=\"dataframe\">\n",
              "  <thead>\n",
              "    <tr style=\"text-align: right;\">\n",
              "      <th>col_0</th>\n",
              "      <th>0</th>\n",
              "      <th>1</th>\n",
              "      <th>2</th>\n",
              "      <th>3</th>\n",
              "    </tr>\n",
              "    <tr>\n",
              "      <th>age</th>\n",
              "      <th></th>\n",
              "      <th></th>\n",
              "      <th></th>\n",
              "      <th></th>\n",
              "    </tr>\n",
              "  </thead>\n",
              "  <tbody>\n",
              "    <tr>\n",
              "      <th>13</th>\n",
              "      <td>20</td>\n",
              "      <td>12</td>\n",
              "      <td>7</td>\n",
              "      <td>1</td>\n",
              "    </tr>\n",
              "    <tr>\n",
              "      <th>14</th>\n",
              "      <td>50</td>\n",
              "      <td>60</td>\n",
              "      <td>55</td>\n",
              "      <td>18</td>\n",
              "    </tr>\n",
              "    <tr>\n",
              "      <th>15</th>\n",
              "      <td>132</td>\n",
              "      <td>150</td>\n",
              "      <td>158</td>\n",
              "      <td>21</td>\n",
              "    </tr>\n",
              "  </tbody>\n",
              "</table>\n",
              "</div>"
            ],
            "text/plain": [
              "col_0    0    1    2   3\n",
              "age                     \n",
              "13      20   12    7   1\n",
              "14      50   60   55  18\n",
              "15     132  150  158  21"
            ]
          },
          "metadata": {
            "tags": []
          },
          "execution_count": 115
        }
      ]
    },
    {
      "cell_type": "code",
      "metadata": {
        "id": "X9MmE7lTpiKG",
        "colab_type": "code",
        "colab": {
          "base_uri": "https://localhost:8080/",
          "height": 175
        },
        "outputId": "16378882-69fb-404f-c477-642e8a2a1f64"
      },
      "source": [
        "#contingency table\n",
        "full_pred_4 = np.array([0 if x == 1 else 1 if x==0 else 2 for x in full_pred_4])\n",
        "pd.crosstab(y, full_pred_4).head(3)"
      ],
      "execution_count": null,
      "outputs": [
        {
          "output_type": "execute_result",
          "data": {
            "text/html": [
              "<div>\n",
              "<style scoped>\n",
              "    .dataframe tbody tr th:only-of-type {\n",
              "        vertical-align: middle;\n",
              "    }\n",
              "\n",
              "    .dataframe tbody tr th {\n",
              "        vertical-align: top;\n",
              "    }\n",
              "\n",
              "    .dataframe thead th {\n",
              "        text-align: right;\n",
              "    }\n",
              "</style>\n",
              "<table border=\"1\" class=\"dataframe\">\n",
              "  <thead>\n",
              "    <tr style=\"text-align: right;\">\n",
              "      <th>col_0</th>\n",
              "      <th>0</th>\n",
              "      <th>1</th>\n",
              "      <th>2</th>\n",
              "    </tr>\n",
              "    <tr>\n",
              "      <th>age</th>\n",
              "      <th></th>\n",
              "      <th></th>\n",
              "      <th></th>\n",
              "    </tr>\n",
              "  </thead>\n",
              "  <tbody>\n",
              "    <tr>\n",
              "      <th>13</th>\n",
              "      <td>12</td>\n",
              "      <td>20</td>\n",
              "      <td>8</td>\n",
              "    </tr>\n",
              "    <tr>\n",
              "      <th>14</th>\n",
              "      <td>60</td>\n",
              "      <td>50</td>\n",
              "      <td>73</td>\n",
              "    </tr>\n",
              "    <tr>\n",
              "      <th>15</th>\n",
              "      <td>150</td>\n",
              "      <td>132</td>\n",
              "      <td>179</td>\n",
              "    </tr>\n",
              "  </tbody>\n",
              "</table>\n",
              "</div>"
            ],
            "text/plain": [
              "col_0    0    1    2\n",
              "age                 \n",
              "13      12   20    8\n",
              "14      60   50   73\n",
              "15     150  132  179"
            ]
          },
          "metadata": {
            "tags": []
          },
          "execution_count": 114
        }
      ]
    },
    {
      "cell_type": "code",
      "metadata": {
        "id": "5EeaQ5TEpZ0a",
        "colab_type": "code",
        "colab": {
          "base_uri": "https://localhost:8080/",
          "height": 35
        },
        "outputId": "232cc251-e310-4ed6-98db-c136c07e3ba7"
      },
      "source": [
        "rand_index_score(y, full_pred_4)"
      ],
      "execution_count": null,
      "outputs": [
        {
          "output_type": "execute_result",
          "data": {
            "text/plain": [
              "0.9433326476203415"
            ]
          },
          "metadata": {
            "tags": []
          },
          "execution_count": 109
        }
      ]
    },
    {
      "cell_type": "code",
      "metadata": {
        "id": "UG_VmJm6ry5a",
        "colab_type": "code",
        "colab": {
          "base_uri": "https://localhost:8080/",
          "height": 35
        },
        "outputId": "3dabacc1-cda6-4dea-af0d-433761e20c1e"
      },
      "source": [
        "metrics.adjusted_rand_score(y, full_pred_4)"
      ],
      "execution_count": null,
      "outputs": [
        {
          "output_type": "execute_result",
          "data": {
            "text/plain": [
              "-0.0007577718495891988"
            ]
          },
          "metadata": {
            "tags": []
          },
          "execution_count": 113
        }
      ]
    },
    {
      "cell_type": "markdown",
      "metadata": {
        "id": "zrbbtl8E_wI8",
        "colab_type": "text"
      },
      "source": [
        "##k = 3"
      ]
    },
    {
      "cell_type": "code",
      "metadata": {
        "id": "u9zsqaU03opq",
        "colab_type": "code",
        "colab": {
          "base_uri": "https://localhost:8080/",
          "height": 718
        },
        "outputId": "e602094a-8a0f-4ba1-e490-c6d00a9c2dfe"
      },
      "source": [
        "k_means = KMeans(n_clusters=3, random_state=42)\n",
        "%timeit k_means.fit(X_std_pca)\n",
        "y_pred = k_means.predict(X_std_pca)\n",
        "\n",
        "clusters = k_means.fit_predict(X_std_pca)\n",
        "k_means.cluster_centers_.shape\n",
        "accuracy_score(y, labels)\n",
        "\n",
        "\n",
        "plt.scatter(df_copy.iloc[:,0], df_copy.iloc[:,1], c=y_pred)\n",
        "plt.show()"
      ],
      "execution_count": null,
      "outputs": [
        {
          "output_type": "stream",
          "text": [
            "1 loop, best of 3: 2.24 s per loop\n"
          ],
          "name": "stdout"
        },
        {
          "output_type": "display_data",
          "data": {
            "image/png": "[encoded data removed]",
            "text/plain": [
              "<Figure size 432x288 with 1 Axes>"
            ]
          },
          "metadata": {
            "tags": [],
            "needs_background": "light"
          }
        },
        {
          "output_type": "execute_result",
          "data": {
            "text/html": [
              "<div>\n",
              "<style scoped>\n",
              "    .dataframe tbody tr th:only-of-type {\n",
              "        vertical-align: middle;\n",
              "    }\n",
              "\n",
              "    .dataframe tbody tr th {\n",
              "        vertical-align: top;\n",
              "    }\n",
              "\n",
              "    .dataframe thead th {\n",
              "        text-align: right;\n",
              "    }\n",
              "</style>\n",
              "<table border=\"1\" class=\"dataframe\">\n",
              "  <thead>\n",
              "    <tr style=\"text-align: right;\">\n",
              "      <th>col_0</th>\n",
              "      <th>0</th>\n",
              "      <th>1</th>\n",
              "      <th>2</th>\n",
              "    </tr>\n",
              "    <tr>\n",
              "      <th>age</th>\n",
              "      <th></th>\n",
              "      <th></th>\n",
              "      <th></th>\n",
              "    </tr>\n",
              "  </thead>\n",
              "  <tbody>\n",
              "    <tr>\n",
              "      <th>13</th>\n",
              "      <td>1</td>\n",
              "      <td>15</td>\n",
              "      <td>24</td>\n",
              "    </tr>\n",
              "    <tr>\n",
              "      <th>14</th>\n",
              "      <td>18</td>\n",
              "      <td>80</td>\n",
              "      <td>85</td>\n",
              "    </tr>\n",
              "    <tr>\n",
              "      <th>15</th>\n",
              "      <td>22</td>\n",
              "      <td>196</td>\n",
              "      <td>243</td>\n",
              "    </tr>\n",
              "    <tr>\n",
              "      <th>16</th>\n",
              "      <td>46</td>\n",
              "      <td>434</td>\n",
              "      <td>427</td>\n",
              "    </tr>\n",
              "    <tr>\n",
              "      <th>17</th>\n",
              "      <td>39</td>\n",
              "      <td>507</td>\n",
              "      <td>614</td>\n",
              "    </tr>\n",
              "    <tr>\n",
              "      <th>...</th>\n",
              "      <td>...</td>\n",
              "      <td>...</td>\n",
              "      <td>...</td>\n",
              "    </tr>\n",
              "    <tr>\n",
              "      <th>89</th>\n",
              "      <td>1</td>\n",
              "      <td>0</td>\n",
              "      <td>0</td>\n",
              "    </tr>\n",
              "    <tr>\n",
              "      <th>90</th>\n",
              "      <td>1</td>\n",
              "      <td>1</td>\n",
              "      <td>0</td>\n",
              "    </tr>\n",
              "    <tr>\n",
              "      <th>98</th>\n",
              "      <td>0</td>\n",
              "      <td>1</td>\n",
              "      <td>0</td>\n",
              "    </tr>\n",
              "    <tr>\n",
              "      <th>99</th>\n",
              "      <td>1</td>\n",
              "      <td>1</td>\n",
              "      <td>1</td>\n",
              "    </tr>\n",
              "    <tr>\n",
              "      <th>100</th>\n",
              "      <td>0</td>\n",
              "      <td>2</td>\n",
              "      <td>0</td>\n",
              "    </tr>\n",
              "  </tbody>\n",
              "</table>\n",
              "<p>72 rows × 3 columns</p>\n",
              "</div>"
            ],
            "text/plain": [
              "col_0   0    1    2\n",
              "age                \n",
              "13      1   15   24\n",
              "14     18   80   85\n",
              "15     22  196  243\n",
              "16     46  434  427\n",
              "17     39  507  614\n",
              "..     ..  ...  ...\n",
              "89      1    0    0\n",
              "90      1    1    0\n",
              "98      0    1    0\n",
              "99      1    1    1\n",
              "100     0    2    0\n",
              "\n",
              "[72 rows x 3 columns]"
            ]
          },
          "metadata": {
            "tags": []
          },
          "execution_count": 137
        }
      ]
    },
    {
      "cell_type": "markdown",
      "metadata": {
        "id": "mUn02czMAjkQ",
        "colab_type": "text"
      },
      "source": [
        "##### Predicted clusters k=3"
      ]
    },
    {
      "cell_type": "code",
      "metadata": {
        "id": "hzOWtH4VAi9L",
        "colab_type": "code",
        "colab": {
          "base_uri": "https://localhost:8080/",
          "height": 175
        },
        "outputId": "04ffcf44-7776-4035-83dd-d9d5ec62be74"
      },
      "source": [
        "#predicted clusters\n",
        "full_pred_3 = KMeans(n_clusters=3, random_state=42).fit_predict(X_std_pca)\n",
        "pd.crosstab(y, full_pred_3).head(3)"
      ],
      "execution_count": null,
      "outputs": [
        {
          "output_type": "execute_result",
          "data": {
            "text/html": [
              "<div>\n",
              "<style scoped>\n",
              "    .dataframe tbody tr th:only-of-type {\n",
              "        vertical-align: middle;\n",
              "    }\n",
              "\n",
              "    .dataframe tbody tr th {\n",
              "        vertical-align: top;\n",
              "    }\n",
              "\n",
              "    .dataframe thead th {\n",
              "        text-align: right;\n",
              "    }\n",
              "</style>\n",
              "<table border=\"1\" class=\"dataframe\">\n",
              "  <thead>\n",
              "    <tr style=\"text-align: right;\">\n",
              "      <th>col_0</th>\n",
              "      <th>0</th>\n",
              "      <th>1</th>\n",
              "      <th>2</th>\n",
              "    </tr>\n",
              "    <tr>\n",
              "      <th>age</th>\n",
              "      <th></th>\n",
              "      <th></th>\n",
              "      <th></th>\n",
              "    </tr>\n",
              "  </thead>\n",
              "  <tbody>\n",
              "    <tr>\n",
              "      <th>13</th>\n",
              "      <td>1</td>\n",
              "      <td>15</td>\n",
              "      <td>24</td>\n",
              "    </tr>\n",
              "    <tr>\n",
              "      <th>14</th>\n",
              "      <td>18</td>\n",
              "      <td>80</td>\n",
              "      <td>85</td>\n",
              "    </tr>\n",
              "    <tr>\n",
              "      <th>15</th>\n",
              "      <td>22</td>\n",
              "      <td>196</td>\n",
              "      <td>243</td>\n",
              "    </tr>\n",
              "  </tbody>\n",
              "</table>\n",
              "</div>"
            ],
            "text/plain": [
              "col_0   0    1    2\n",
              "age                \n",
              "13      1   15   24\n",
              "14     18   80   85\n",
              "15     22  196  243"
            ]
          },
          "metadata": {
            "tags": []
          },
          "execution_count": 138
        }
      ]
    },
    {
      "cell_type": "code",
      "metadata": {
        "id": "P7EwLzT5AYuk",
        "colab_type": "code",
        "colab": {
          "base_uri": "https://localhost:8080/",
          "height": 175
        },
        "outputId": "9a248a0f-237e-407e-b723-99ed5bc711e6"
      },
      "source": [
        "#contingency table\n",
        "full_pred_3 = np.array([0 if x == 1 else 1 if x==0 else 2 for x in full_pred_3])\n",
        "pd.crosstab(y, full_pred_3).head(3)"
      ],
      "execution_count": null,
      "outputs": [
        {
          "output_type": "execute_result",
          "data": {
            "text/html": [
              "<div>\n",
              "<style scoped>\n",
              "    .dataframe tbody tr th:only-of-type {\n",
              "        vertical-align: middle;\n",
              "    }\n",
              "\n",
              "    .dataframe tbody tr th {\n",
              "        vertical-align: top;\n",
              "    }\n",
              "\n",
              "    .dataframe thead th {\n",
              "        text-align: right;\n",
              "    }\n",
              "</style>\n",
              "<table border=\"1\" class=\"dataframe\">\n",
              "  <thead>\n",
              "    <tr style=\"text-align: right;\">\n",
              "      <th>col_0</th>\n",
              "      <th>0</th>\n",
              "      <th>1</th>\n",
              "      <th>2</th>\n",
              "    </tr>\n",
              "    <tr>\n",
              "      <th>age</th>\n",
              "      <th></th>\n",
              "      <th></th>\n",
              "      <th></th>\n",
              "    </tr>\n",
              "  </thead>\n",
              "  <tbody>\n",
              "    <tr>\n",
              "      <th>13</th>\n",
              "      <td>15</td>\n",
              "      <td>1</td>\n",
              "      <td>24</td>\n",
              "    </tr>\n",
              "    <tr>\n",
              "      <th>14</th>\n",
              "      <td>80</td>\n",
              "      <td>18</td>\n",
              "      <td>85</td>\n",
              "    </tr>\n",
              "    <tr>\n",
              "      <th>15</th>\n",
              "      <td>196</td>\n",
              "      <td>22</td>\n",
              "      <td>243</td>\n",
              "    </tr>\n",
              "  </tbody>\n",
              "</table>\n",
              "</div>"
            ],
            "text/plain": [
              "col_0    0   1    2\n",
              "age                \n",
              "13      15   1   24\n",
              "14      80  18   85\n",
              "15     196  22  243"
            ]
          },
          "metadata": {
            "tags": []
          },
          "execution_count": 139
        }
      ]
    },
    {
      "cell_type": "code",
      "metadata": {
        "id": "Vm02EAuF_jKs",
        "colab_type": "code",
        "colab": {
          "base_uri": "https://localhost:8080/",
          "height": 35
        },
        "outputId": "80be958d-6531-4622-8662-8cf7c0aebe7b"
      },
      "source": [
        "clusters = k_means.fit_predict(X_std_pca)\n",
        "k_means.cluster_centers_.shape\n",
        "labels = k_means.labels_\n",
        "print(metrics.silhouette_score(X_std_pca, labels, metric='euclidean'))"
      ],
      "execution_count": null,
      "outputs": [
        {
          "output_type": "stream",
          "text": [
            "0.15771890365626445\n"
          ],
          "name": "stdout"
        }
      ]
    },
    {
      "cell_type": "code",
      "metadata": {
        "id": "hBIBlV6HecXm",
        "colab_type": "code",
        "colab": {
          "base_uri": "https://localhost:8080/",
          "height": 35
        },
        "outputId": "8b1cd86d-e859-45f7-f712-ecb808c4b33f"
      },
      "source": [
        "labels = KMeans(n_clusters=3, random_state=123).fit_predict(X_std_pca)\n",
        "print(metrics.silhouette_score(X_std_pca, labels, metric='euclidean'))"
      ],
      "execution_count": null,
      "outputs": [
        {
          "output_type": "stream",
          "text": [
            "0.16621891296541902\n"
          ],
          "name": "stdout"
        }
      ]
    },
    {
      "cell_type": "markdown",
      "metadata": {
        "id": "U8wZIWOHB9br",
        "colab_type": "text"
      },
      "source": [
        "##### k=2"
      ]
    },
    {
      "cell_type": "code",
      "metadata": {
        "id": "wpRcKS5VBzmz",
        "colab_type": "code",
        "colab": {
          "base_uri": "https://localhost:8080/",
          "height": 298
        },
        "outputId": "33a61ef2-5e4b-4a7b-ff5c-c7a2ea518ec0"
      },
      "source": [
        "k_means = KMeans(n_clusters=2, random_state=42)\n",
        "%timeit k_means.fit(X_std_pca)\n",
        "y_pred = k_means.predict(X_std_pca)\n",
        "\n",
        "plt.scatter(df_copy.iloc[:,0], df_copy.iloc[:,1], c=y_pred)\n",
        "plt.show()\n",
        "\n",
        "clusters = k_means.fit_predict(X_std_pca)\n",
        "k_means.cluster_centers_.shape\n",
        "\n",
        "\n",
        "labels = k_means.labels_\n",
        "print(metrics.silhouette_score(X_std_pca, labels, metric='euclidean'))"
      ],
      "execution_count": null,
      "outputs": [
        {
          "output_type": "stream",
          "text": [
            "1 loop, best of 3: 1.2 s per loop\n"
          ],
          "name": "stdout"
        },
        {
          "output_type": "display_data",
          "data": {
            "image/png": "[encoded data removed]",
            "text/plain": [
              "<Figure size 432x288 with 1 Axes>"
            ]
          },
          "metadata": {
            "tags": [],
            "needs_background": "light"
          }
        },
        {
          "output_type": "stream",
          "text": [
            "0.1523890154739794\n"
          ],
          "name": "stdout"
        }
      ]
    },
    {
      "cell_type": "code",
      "metadata": {
        "id": "CEXcZcZDCe8S",
        "colab_type": "code",
        "colab": {}
      },
      "source": [
        "#predicted clusters\n",
        "full_pred_2 = KMeans(n_clusters=2, random_state=42).fit_predict(X_std_pca)\n",
        "pd.crosstab(y, full_pred_2).head(3)\n",
        "\n"
      ],
      "execution_count": null,
      "outputs": []
    },
    {
      "cell_type": "code",
      "metadata": {
        "id": "7iVddBgiCnoZ",
        "colab_type": "code",
        "colab": {}
      },
      "source": [
        "#contingency table\n",
        "full_pred_2 = np.array([0 if x == 1 else 1 if x==0 else 2 for x in full_pred_2])\n",
        "pd.crosstab(y, full_pred_2).head(3)"
      ],
      "execution_count": null,
      "outputs": []
    },
    {
      "cell_type": "code",
      "metadata": {
        "id": "30-572vqC4GT",
        "colab_type": "code",
        "colab": {}
      },
      "source": [
        "clusters = k_means.fit_predict(X_std_pca)\n",
        "k_means.cluster_centers_.shape\n",
        "labels = k_means.labels_\n",
        "print(metrics.silhouette_score(X_std_pca, labels, metric='euclidean'))"
      ],
      "execution_count": null,
      "outputs": []
    },
    {
      "cell_type": "code",
      "metadata": {
        "id": "f5I8m7AfC6pi",
        "colab_type": "code",
        "colab": {
          "base_uri": "https://localhost:8080/",
          "height": 35
        },
        "outputId": "1ed76dd9-ac80-45eb-e754-ec395f22a755"
      },
      "source": [
        "labels = KMeans(n_clusters=2, random_state=123).fit_predict(X_std_pca)\n",
        "print(metrics.silhouette_score(X_std_pca, labels, metric='euclidean'))"
      ],
      "execution_count": null,
      "outputs": [
        {
          "output_type": "stream",
          "text": [
            "0.1523796723744475\n"
          ],
          "name": "stdout"
        }
      ]
    },
    {
      "cell_type": "markdown",
      "metadata": {
        "id": "Thbw_xvyN1M4",
        "colab_type": "text"
      },
      "source": [
        "###Agglomerative Clustering"
      ]
    },
    {
      "cell_type": "code",
      "metadata": {
        "id": "tmJ90qaKA2VP",
        "colab_type": "code",
        "colab": {}
      },
      "source": [
        "n_clusters = 4\n",
        "ward = AgglomerativeClustering(n_clusters=n_clusters,linkage='ward') \n",
        "ward.fit(X_std_pca)\n",
        "\n",
        "ward_pred = ward.fit_predict(X_std_pca)\n",
        "\n",
        "#distance calculation\n",
        "preds = ward.fit_predict(X_std_pca)\n",
        "score = silhouette_score(X_std_pca, full_pred_4, metric='l2')\n",
        "print(score)"
      ],
      "execution_count": null,
      "outputs": []
    },
    {
      "cell_type": "code",
      "metadata": {
        "id": "eY1X10YcNtFm",
        "colab_type": "code",
        "colab": {}
      },
      "source": [
        "n_clusters = 3\n",
        "ward = AgglomerativeClustering(n_clusters=n_clusters,linkage='ward') \n",
        "ward.fit(X_std)\n",
        "\n",
        "ward_pred = ward.fit_predict(X_std)\n",
        "\n",
        "#distance calculation\n",
        "preds = ward.fit_predict(X_std)\n",
        "score = silhouette_score(X_std, full_pred_3, metric='l2')\n",
        "print(score)"
      ],
      "execution_count": null,
      "outputs": []
    },
    {
      "cell_type": "code",
      "metadata": {
        "id": "mT7OnbQ-A6R0",
        "colab_type": "code",
        "colab": {}
      },
      "source": [
        "n_clusters = 2\n",
        "ward = AgglomerativeClustering(n_clusters=n_clusters,linkage='ward') \n",
        "ward.fit(X_std_pca)\n",
        "\n",
        "ward_pred = ward.fit_predict(X_std_pca)\n",
        "\n",
        "#distance calculation\n",
        "preds = ward.fit_predict(X_std_pca)\n",
        "score = silhouette_score(X_std_pca, full_pred_2, metric='l2')\n",
        "print(score)"
      ],
      "execution_count": null,
      "outputs": []
    },
    {
      "cell_type": "markdown",
      "metadata": {
        "id": "l_IBkKqXqcXA",
        "colab_type": "text"
      },
      "source": [
        "##### Questions"
      ]
    },
    {
      "cell_type": "code",
      "metadata": {
        "id": "zdAoVba78wEp",
        "colab_type": "code",
        "colab": {}
      },
      "source": [
        "questions = [\"I feel anxious when I think about the sexual aspects of my life.\t\t\t\t\t\",\n",
        "\"I have the ability to take care of any sexual needs and desires that I may have.\t\t\t\t\t\",\n",
        "\"I am very aware of my sexual feelings and needs.\t\t\t\t\t\",\n",
        "\"I am motivated to avoid engaging in \\\"risky\\\" (i.e., unprotected) sexual behavior.\t\t\t\t\t\",\n",
        "\"The sexual aspects of my life are determined mostly by chance happenings.\t\t\t\t\t\",\n",
        "\"I think about sex \\\"all the time.\\\"\t\t\t\t\t\",\n",
        "\"I’m very assertive about the sexual aspects of my life.\t\t\t\t\t\",\n",
        "\"I expect that the sexual aspects of my life will be positive and rewarding in the future.\t\t\t\t\t\",\n",
        "\"I would be to blame, if the sexual aspects of my life were not going very well.\t\t\t\t\t\",\n",
        "\"I notice how others perceive and react to the sexual aspects of my life.\t\t\t\t\t\",\n",
        "\"I’m motivated to be sexually active.\t\t\t\t\t\",\n",
        "\"If I were to experience a sexual problem, I myself would in control of whether this improved.\t\t\t\t\t\",\n",
        "\"I derive a sense of self-pride from the way I handle my own sexual needs and desires.\t\t\t\t\t\",\n",
        "\"I am satisfied with the way my sexual needs are currently being met.\t\t\t\t\t\",\n",
        "\"My sexual behaviors are determined largely by other more powerful and influential people.\t\t\t\t\t\",\n",
        "\"Not only would I be a good sexual partner, but it’s quite important to me that I be a good sexual partner.\t\t\t\t\t\",\n",
        "\"I am afraid of becoming sexual involved with another person.\t\t\t\t\t\",\n",
        "\"If I am careful, then I will be able to prevent myself from having any sexual problems.\t\t\t\t\t\",\n",
        "\"I am depressed about the sexual aspects of my life.\t\t\t\t\t\",\n",
        "\"My sexuality is something that I am largely responsible for.\t\t\t\t\t\",\n",
        "\"I worry about the sexual aspects of my life.\t\t\t\t\t\",\n",
        "\"I am competent enough to make sure that my sexual needs are fulfilled.\t\t\t\t\t\",\n",
        "\"I am very aware of my sexual motivations and desires.\t\t\t\t\t\",\n",
        "\"I am motivated to keep myself from having any \\\"risky\\\" sexual behavior (e.g., exposure to sexual diseases).\t\t\t\t\t\",\n",
        "\"Most things that affect the sexual aspects of my life happen to me by accident.\t\t\t\t\t\",\n",
        "\"I think about sex more than anything else.\t\t\t\t\t\",\n",
        "\"I’m not very direct about voicing my sexual needs and preferences.\t\t\t\t\t\",\n",
        "\"I believe that in the future the sexual aspects of my life will be healthy and positive.\t\t\t\t\t\",\n",
        "\"If the sexual aspects of my life were to go wrong, I would be the person to blame.\t\t\t\t\t\",\n",
        "\"I’m concerned with how others evaluate my own sexual beliefs and behaviors.\t\t\t\t\t\",\n",
        "\"I’m motivated to devote time and effort to sex.\t\t\t\t\t\",\n",
        "\"If I were to experiences a sexual problem, my own behavior would determine whether I improved.\t\t\t\t\t\",\n",
        "\"I am proud of the way I deal with and handle my own sexual desires and needs.\t\t\t\t\t\",\n",
        "\"I am satisfied with the status of my own sexual fulfillment.\t\t\t\t\t\",\n",
        "\"My sexual behaviors are largely controlled by people other than myself (e.g., my partner, friends, family).\t\t\t\t\t\",\n",
        "\"Not only would I be a skilled sexual partner, but it’s very important to me that I be a skilled sexual partner.\t\t\t\t\t\",\n",
        "\"I have a fear of sexual relationships.\t\t\t\t\t\",\n",
        "\"I can pretty much prevent myself from developing sexual problems by taking good care of myself.\t\t\t\t\t\",\n",
        "\"I am disappointed about the quality of my sex life.\t\t\t\t\t\",\n",
        "\"The sexual aspects of my life are determined in large part by my own behavior.\t\t\t\t\t\",\n",
        "\"Thinking about the sexual aspects of my life often leaves me with an uneasy feeling.\t\t\t\t\t\",\n",
        "\"I have the skills and ability to ensure rewarding sexual behaviors for myself.\t\t\t\t\t\",\n",
        "\"I tend to think about my own sexual beliefs and attitudes.\t\t\t\t\t\",\n",
        "\"I want to avoid engaging in sex where I might be exposed to sexual diseases.\t\t\t\t\t\",\n",
        "\"Luck plays a big part in influencing the sexual aspects of my life.\t\t\t\t\t\",\n",
        "\"I tend to be preoccupied with sex.\t\t\t\t\t\",\n",
        "\"I am somewhat passive about expressing my own sexual desires.\t\t\t\t\t\",\n",
        "\"I do not expect to suffer any sexual problems or frustrations in the future.\t\t\t\t\t\",\n",
        "\"If I were to develop a sexual disorder, then I would be to blame for not taking good care of myself.\t\t\t\t\t\",\n",
        "\"I am quick to notice other people’s reactions to the sexual aspects of my own life.\t\t\t\t\t\",\n",
        "\"I have a desire to be sexually active.\t\t\t\t\t\",\n",
        "\"If I were to become sexually maladjusted, I myself would be responsible for making myself better.\t\t\t\t\t\",\n",
        "\"I am pleased with how I handle my own sexual tendencies and behaviors.\t\t\t\t\t\",\n",
        "\"The sexual aspects of my life are personally gratifying to me.\t\t\t\t\t\",\n",
        "\"My sexual behavior is determined by the actions of powerful others (e.g., my partner, friends, family).\t\t\t\t\t\",\n",
        "\"Not only could I relate well to a sexual partner, but it’s important to me that I be able to do so.\t\t\t\t\t\",\n",
        "\"I am fearful of engaging sexual activity.\t\t\t\t\t\",\n",
        "\"If just I look out for myself, then I will be able to avoid any sexual problems in the future.\t\t\t\t\t\",\n",
        "\"I feel discouraged about my sex life.\t\t\t\t\t\",\n",
        "\"I am in control of and am responsible for the sexual aspects of my life.\t\t\t\t\t\",\n",
        "\"I worry about the sexual aspects of my life.\t\t\t\t\t\",\n",
        "\"I am able to cope with and to handle my own sexual needs and wants.\t\t\t\t\t\",\n",
        "\"I’m very alert to changes in my sexual thoughts, feelings, and desires.\t\t\t\t\t\",\n",
        "\"I really want to prevent myself from being exposed to sexual diseases.\t\t\t\t\t\",\n",
        "\"The sexual aspects of my life are largely a matter of (good or bad) fortune.\t\t\t\t\t\",\n",
        "\"I’m constantly thinking about having sex.\t\t\t\t\t\",\n",
        "\"I do not hesitate to ask for what I want in a sexual relationship.\t\t\t\t\t\",\n",
        "\"I will probably experience some sexual problems in the future.\t\t\t\t\t\",\n",
        "\"If I were to develop a sexual problem, then it would be my own fault for letting it happen.\t\t\t\t\t\",\n",
        "\"I’m concerned about how the sexual aspects of my life appear to others.\t\t\t\t\t\",\n",
        "\"It’s important to me that I involve myself in sexual activity.\t\t\t\t\t\",\n",
        "\"If I developed any sexual problems, my recovery would depend in large part on what I myself would do.\t\t\t\t\t\",\n",
        "\"I have positive feelings about the way I approach my own sexual needs and desires.\t\t\t\t\t\",\n",
        "\"The sexual aspects of my life are satisfactory, compared to most people’s.\t\t\t\t\t\",\n",
        "\"In order to be sexually active, I have to conform to other more powerful individuals.\t\t\t\t\t\",\n",
        "\"I am able to \\\"connect\\\" well with a sexual partner, and it’s important to me that I am able to do so.\t\t\t\t\t\",\n",
        "\"I don’t have much fear about engaging in sex.\t\t\t\t\t\",\n",
        "\"I will be able to avoid any sexual problems, if I just take good care of myself.\t\t\t\t\t\",\n",
        "\"I feel unhappy about my sexual experiences.\t\t\t\t\t\",\n",
        "\"The main thing which affects the sexual aspects of my life is what I myself do.\t\t\t\t\t\",\n",
        "\"I feel nervous when I think abut the sexual aspects of my life.\t\t\t\t\t\",\n",
        "\"I have the capability to take care of my own sexual needs and desires.\t\t\t\t\t\",\n",
        "\"I am very aware of the sexual aspects of myself (e.g. habits, thoughts, beliefs).\t\t\t\t\t\",\n",
        "\"I am really motivated to avoid any sexual activity that might expose me to sexual diseases.\t\t\t\t\t\",\n",
        "\"The sexual aspects of my life are a matter of fate (destiny).\t\t\t\t\t\",\n",
        "\"I think about sex the majority of the time.\t\t\t\t\t\",\n",
        "\"When it comes to sex, I usually ask for what I want.\t\t\t\t\t\",\n",
        "\"I anticipate that in the future the sexual aspects of my life will be frustrating.\t\t\t\t\t\",\n",
        "\"If something went wrong with my own sexuality, then it would be my own fault.\t\t\t\t\t\",\n",
        "\"I’m aware of the public impression created by my own sexual behaviors and attitudes.\t\t\t\t\t\",\n",
        "\"I strive to keep myself sexually active.\t\t\t\t\t\",\n",
        "\"If I developed a sexual disorder, my recovery would depend on how I myself dealt with the problem.\t\t\t\t\t\",\n",
        "\"I feel good about the way I express my own sexual needs and desires.\t\t\t\t\t\",\n",
        "\"I am satisfied with the sexual aspects of my life.\t\t\t\t\t\",\n",
        "\"My sexual behavior is mostly determined by people who have influence and control over me.\t\t\t\t\t\",\n",
        "\"Not only am I be capable of relating to a sexual partner, but it’s important to me that I relate very well.\t\t\t\t\t\",\n",
        "\"I’m not afraid of becoming sexually active.\t\t\t\t\t\",\n",
        "\"If I just pay careful attention, I’ll be able to prevent myself from having any sexual problems.\t\t\t\t\t\",\n",
        "\"I feel sad when I think about my sexual experiences.\t\t\t\t\t\",\n",
        "\"My sexuality is something that I myself am in charge of.\"]\n"
      ],
      "execution_count": null,
      "outputs": []
    },
    {
      "cell_type": "code",
      "metadata": {
        "id": "aYBZkhG_8jB2",
        "colab_type": "code",
        "colab": {}
      },
      "source": [
        "# transpose cc df \n",
        "# add questions text to df "
      ],
      "execution_count": null,
      "outputs": []
    },
    {
      "cell_type": "code",
      "metadata": {
        "id": "Hp_0KZYR-zB_",
        "colab_type": "code",
        "colab": {}
      },
      "source": [
        "# row 2 - row1 \n",
        "\n",
        "cc.head()\n",
        "\n"
      ],
      "execution_count": null,
      "outputs": []
    },
    {
      "cell_type": "code",
      "metadata": {
        "id": "9FnjQvKlAQ-S",
        "colab_type": "code",
        "colab": {}
      },
      "source": [
        "cc = cc.T\n",
        "\n",
        "cc['question'] = questions\n",
        "\n",
        "cc['diff01'] = (cc[0] - cc[1]).abs()\n",
        "\n",
        "cc['diff02'] = (cc[0] - cc[2]).abs()\n",
        "\n",
        "cc['diff12'] = (cc[1] - cc[2]).abs()\n"
      ],
      "execution_count": null,
      "outputs": []
    },
    {
      "cell_type": "code",
      "metadata": {
        "id": "AMsxAF0hBWIe",
        "colab_type": "code",
        "colab": {}
      },
      "source": [
        "cc.sort_values(by='diff01', ascending=False)"
      ],
      "execution_count": null,
      "outputs": []
    },
    {
      "cell_type": "code",
      "metadata": {
        "id": "tkeMoPMZhNzg",
        "colab_type": "code",
        "colab": {}
      },
      "source": [
        "cc = pd.DataFrame(kmeans.cluster_centers_)"
      ],
      "execution_count": null,
      "outputs": []
    },
    {
      "cell_type": "code",
      "metadata": {
        "id": "hlKO_qnnDrmY",
        "colab_type": "code",
        "colab": {}
      },
      "source": [
        "cc.hist();"
      ],
      "execution_count": null,
      "outputs": []
    },
    {
      "cell_type": "code",
      "metadata": {
        "id": "BGVFhya6EfIZ",
        "colab_type": "code",
        "colab": {}
      },
      "source": [
        "cc.describe()"
      ],
      "execution_count": null,
      "outputs": []
    },
    {
      "cell_type": "code",
      "metadata": {
        "id": "WRz_zz2QBrUx",
        "colab_type": "code",
        "colab": {}
      },
      "source": [
        "display (cc.sort_values(by='diff02', ascending=False).head())\n",
        "\n",
        "cc.sort_values(by='diff12', ascending=False).head()\n",
        "\n",
        "#add right trim"
      ],
      "execution_count": null,
      "outputs": []
    },
    {
      "cell_type": "markdown",
      "metadata": {
        "id": "dGbapAPmDApU",
        "colab_type": "text"
      },
      "source": [
        "#Conclusion\n",
        "\n",
        "Most effective method maintains KMeans and Agglomerative Clustering.  Per the research documentation, the accuracy of scores, etc...do need further investigation; as it may be pressumed that the inventory held task to collect, identify, observe for discussion. As researchers mentioned, further insights will require research beyond tests performed by author. Notwithstanding, author observes dataset is very analytics heavy and may be better suited for statistical or data visualization.\n",
        "\n",
        "Author will revise accordingly to reflect more robust visualization piece, however, the pyton package \"Sweet Viz\" fell inoperable due to size of dataset.\n",
        "\n",
        "Limitations included:\n",
        "\n",
        "* class imbalances\n",
        "* inauthority on best practice to normalize feature 'Age'\n",
        "* exhaustive sweep of questionaire base\n",
        "* test/user and other errors on discovery.\n",
        "\n",
        "While there's still room for growth, the project may be better aided with deeper investigation put towards alternate ways to broadcast original researcher message. "
      ]
    },
    {
      "cell_type": "code",
      "metadata": {
        "id": "V7VchZakFA-K",
        "colab_type": "code",
        "colab": {}
      },
      "source": [
        ""
      ],
      "execution_count": null,
      "outputs": []
    }
  ]
}